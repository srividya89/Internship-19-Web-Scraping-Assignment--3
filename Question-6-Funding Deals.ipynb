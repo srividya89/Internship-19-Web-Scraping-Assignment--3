{
 "cells": [
  {
   "cell_type": "code",
   "execution_count": 13,
   "id": "9863a04c",
   "metadata": {},
   "outputs": [
    {
     "name": "stdout",
     "output_type": "stream",
     "text": [
      "Requirement already satisfied: selenium in c:\\users\\srividya\\anaconda3\\lib\\site-packages (4.0.0b4)\n",
      "Requirement already satisfied: trio-websocket~=0.9 in c:\\users\\srividya\\anaconda3\\lib\\site-packages (from selenium) (0.9.2)\n",
      "Requirement already satisfied: trio~=0.17 in c:\\users\\srividya\\anaconda3\\lib\\site-packages (from selenium) (0.19.0)\n",
      "Requirement already satisfied: urllib3[secure]~=1.26 in c:\\users\\srividya\\anaconda3\\lib\\site-packages (from selenium) (1.26.4)\n",
      "Requirement already satisfied: attrs>=19.2.0 in c:\\users\\srividya\\anaconda3\\lib\\site-packages (from trio~=0.17->selenium) (20.3.0)\n",
      "Requirement already satisfied: async-generator>=1.9 in c:\\users\\srividya\\anaconda3\\lib\\site-packages (from trio~=0.17->selenium) (1.10)\n",
      "Requirement already satisfied: sniffio in c:\\users\\srividya\\anaconda3\\lib\\site-packages (from trio~=0.17->selenium) (1.2.0)\n",
      "Requirement already satisfied: cffi>=1.14 in c:\\users\\srividya\\anaconda3\\lib\\site-packages (from trio~=0.17->selenium) (1.14.5)\n",
      "Requirement already satisfied: idna in c:\\users\\srividya\\anaconda3\\lib\\site-packages (from trio~=0.17->selenium) (2.10)\n",
      "Requirement already satisfied: outcome in c:\\users\\srividya\\anaconda3\\lib\\site-packages (from trio~=0.17->selenium) (1.1.0)\n",
      "Requirement already satisfied: sortedcontainers in c:\\users\\srividya\\anaconda3\\lib\\site-packages (from trio~=0.17->selenium) (2.3.0)\n",
      "Requirement already satisfied: pycparser in c:\\users\\srividya\\anaconda3\\lib\\site-packages (from cffi>=1.14->trio~=0.17->selenium) (2.20)\n",
      "Requirement already satisfied: wsproto>=0.14 in c:\\users\\srividya\\anaconda3\\lib\\site-packages (from trio-websocket~=0.9->selenium) (1.0.0)\n",
      "Requirement already satisfied: cryptography>=1.3.4 in c:\\users\\srividya\\anaconda3\\lib\\site-packages (from urllib3[secure]~=1.26->selenium) (3.4.7)\n",
      "Requirement already satisfied: certifi in c:\\users\\srividya\\anaconda3\\lib\\site-packages (from urllib3[secure]~=1.26->selenium) (2020.12.5)\n",
      "Requirement already satisfied: pyOpenSSL>=0.14 in c:\\users\\srividya\\anaconda3\\lib\\site-packages (from urllib3[secure]~=1.26->selenium) (20.0.1)\n",
      "Requirement already satisfied: six>=1.5.2 in c:\\users\\srividya\\anaconda3\\lib\\site-packages (from pyOpenSSL>=0.14->urllib3[secure]~=1.26->selenium) (1.15.0)\n",
      "Requirement already satisfied: h11<1,>=0.9.0 in c:\\users\\srividya\\anaconda3\\lib\\site-packages (from wsproto>=0.14->trio-websocket~=0.9->selenium) (0.12.0)\n"
     ]
    }
   ],
   "source": [
    "!pip install selenium\n",
    "import time\n",
    "import warnings\n",
    "warnings.filterwarnings('ignore')"
   ]
  },
  {
   "cell_type": "code",
   "execution_count": 14,
   "id": "1a0ba392",
   "metadata": {},
   "outputs": [],
   "source": [
    "import selenium\n",
    "import pandas as pd\n",
    "from selenium import webdriver "
   ]
  },
  {
   "cell_type": "code",
   "execution_count": 15,
   "id": "a37803f0",
   "metadata": {},
   "outputs": [],
   "source": [
    "driver=webdriver.Chrome(r\"C:\\Users\\Srividya\\Downloads\\chromedriver_win32\\chromedriver.exe\")"
   ]
  },
  {
   "cell_type": "code",
   "execution_count": 16,
   "id": "63226e11",
   "metadata": {},
   "outputs": [],
   "source": [
    "url=\"https://trak.in/\"\n",
    "driver.get(url)"
   ]
  },
  {
   "cell_type": "code",
   "execution_count": 17,
   "id": "800b7d03",
   "metadata": {},
   "outputs": [],
   "source": [
    "\n",
    "from selenium.common.exceptions import  StaleElementReferenceException,ElementClickInterceptedException\n",
    "from selenium.common.exceptions import  NoSuchElementException,NoSuchWindowException\n",
    "\n",
    "from selenium.webdriver.support.ui import WebDriverWait\n",
    "from selenium.webdriver.support import expected_conditions as EC\n",
    "from selenium.webdriver.common.by import By\n"
   ]
  },
  {
   "cell_type": "code",
   "execution_count": 18,
   "id": "e0771004",
   "metadata": {},
   "outputs": [],
   "source": [
    "funding_deals=driver.find_element_by_xpath(\"//a[@title='http://trak.in/india-startup-funding-investment-2015/']\")\n",
    "funding_deals.click()"
   ]
  },
  {
   "cell_type": "code",
   "execution_count": 19,
   "id": "614a1ad0",
   "metadata": {},
   "outputs": [
    {
     "data": {
      "text/plain": [
       "[<selenium.webdriver.remote.webelement.WebElement (session=\"eb274e55fff6aeec38b0926336797085\", element=\"977b941f-4117-4a38-bfd7-7268f33cc309\")>,\n",
       " <selenium.webdriver.remote.webelement.WebElement (session=\"eb274e55fff6aeec38b0926336797085\", element=\"c3ecdfc3-d5a2-4fc9-82ae-e4fed46edc1d\")>,\n",
       " <selenium.webdriver.remote.webelement.WebElement (session=\"eb274e55fff6aeec38b0926336797085\", element=\"d23865d4-9b61-4bac-8178-0e70d0a75262\")>,\n",
       " <selenium.webdriver.remote.webelement.WebElement (session=\"eb274e55fff6aeec38b0926336797085\", element=\"ea597ad6-a706-4edf-b7f1-34a61bd2d261\")>,\n",
       " <selenium.webdriver.remote.webelement.WebElement (session=\"eb274e55fff6aeec38b0926336797085\", element=\"c6ce77ac-fce4-4b7b-9f17-34d272c60cc8\")>,\n",
       " <selenium.webdriver.remote.webelement.WebElement (session=\"eb274e55fff6aeec38b0926336797085\", element=\"3bd60b74-0a42-4ece-8681-c21eae8fdac9\")>,\n",
       " <selenium.webdriver.remote.webelement.WebElement (session=\"eb274e55fff6aeec38b0926336797085\", element=\"f425c2eb-9997-432a-914a-2da2f63523ba\")>,\n",
       " <selenium.webdriver.remote.webelement.WebElement (session=\"eb274e55fff6aeec38b0926336797085\", element=\"a62e0d8f-8cbc-449a-8945-ceb0d08a870e\")>,\n",
       " <selenium.webdriver.remote.webelement.WebElement (session=\"eb274e55fff6aeec38b0926336797085\", element=\"ec080ffc-e600-4d0f-aad9-b508fa5d68b7\")>,\n",
       " <selenium.webdriver.remote.webelement.WebElement (session=\"eb274e55fff6aeec38b0926336797085\", element=\"1c05f42f-3483-41d3-918d-13d7c4d0164e\")>,\n",
       " <selenium.webdriver.remote.webelement.WebElement (session=\"eb274e55fff6aeec38b0926336797085\", element=\"8ad92601-5c84-425a-86c8-453146eb6483\")>,\n",
       " <selenium.webdriver.remote.webelement.WebElement (session=\"eb274e55fff6aeec38b0926336797085\", element=\"92358424-5cc9-4e3d-8b5c-f870e4f1362b\")>,\n",
       " <selenium.webdriver.remote.webelement.WebElement (session=\"eb274e55fff6aeec38b0926336797085\", element=\"ea2721fc-60a5-4f3c-b275-3df8e44dd069\")>,\n",
       " <selenium.webdriver.remote.webelement.WebElement (session=\"eb274e55fff6aeec38b0926336797085\", element=\"36d50483-404c-4552-b406-69924519f41b\")>,\n",
       " <selenium.webdriver.remote.webelement.WebElement (session=\"eb274e55fff6aeec38b0926336797085\", element=\"65ad87e4-5529-4e21-894e-e5b61f106320\")>,\n",
       " <selenium.webdriver.remote.webelement.WebElement (session=\"eb274e55fff6aeec38b0926336797085\", element=\"168cf3b3-a996-4a22-a49b-ddbf66166bca\")>,\n",
       " <selenium.webdriver.remote.webelement.WebElement (session=\"eb274e55fff6aeec38b0926336797085\", element=\"17545660-54ea-4f69-b66f-7f249e428f8e\")>,\n",
       " <selenium.webdriver.remote.webelement.WebElement (session=\"eb274e55fff6aeec38b0926336797085\", element=\"b157ac20-5402-4c0a-aaf4-9fe999dc37ac\")>]"
      ]
     },
     "execution_count": 19,
     "metadata": {},
     "output_type": "execute_result"
    }
   ],
   "source": [
    "column_header=driver.find_elements_by_xpath(\"//th[@aria-controls='tablepress-48']\")\n",
    "column_header"
   ]
  },
  {
   "cell_type": "code",
   "execution_count": 118,
   "id": "09099208",
   "metadata": {},
   "outputs": [],
   "source": [
    "column_headers=[]\n",
    "for i in column_header:\n",
    "    column_headers.append(i.text)"
   ]
  },
  {
   "cell_type": "code",
   "execution_count": 119,
   "id": "76a5a779",
   "metadata": {},
   "outputs": [
    {
     "data": {
      "text/plain": [
       "['Sr. No.',\n",
       " 'Date (dd/mm/yyyy)',\n",
       " 'Startup Name',\n",
       " 'Industry / Vertical',\n",
       " 'Sub-Vertical',\n",
       " 'City / Location',\n",
       " \"Investors' Name\",\n",
       " 'Investment Type',\n",
       " 'Amount (In USD)',\n",
       " '',\n",
       " '',\n",
       " '',\n",
       " '',\n",
       " '',\n",
       " '',\n",
       " '',\n",
       " '',\n",
       " '']"
      ]
     },
     "execution_count": 119,
     "metadata": {},
     "output_type": "execute_result"
    }
   ],
   "source": [
    "column_headers"
   ]
  },
  {
   "cell_type": "code",
   "execution_count": 120,
   "id": "8ed35952",
   "metadata": {},
   "outputs": [],
   "source": [
    "cols=[]\n",
    "for i in range(len(column_headers)):\n",
    "    if i < 9:\n",
    "        cols.append(column_headers[i])\n",
    "    else:\n",
    "        break\n",
    "    "
   ]
  },
  {
   "cell_type": "code",
   "execution_count": 121,
   "id": "b58e417b",
   "metadata": {},
   "outputs": [
    {
     "data": {
      "text/plain": [
       "['Sr. No.',\n",
       " 'Date (dd/mm/yyyy)',\n",
       " 'Startup Name',\n",
       " 'Industry / Vertical',\n",
       " 'Sub-Vertical',\n",
       " 'City / Location',\n",
       " \"Investors' Name\",\n",
       " 'Investment Type',\n",
       " 'Amount (In USD)']"
      ]
     },
     "execution_count": 121,
     "metadata": {},
     "output_type": "execute_result"
    }
   ],
   "source": [
    "cols"
   ]
  },
  {
   "cell_type": "code",
   "execution_count": 122,
   "id": "ba26f022",
   "metadata": {},
   "outputs": [
    {
     "data": {
      "text/plain": [
       "[<selenium.webdriver.remote.webelement.WebElement (session=\"eb274e55fff6aeec38b0926336797085\", element=\"d0d2d4da-6864-4ed1-bd01-90dd29250633\")>,\n",
       " <selenium.webdriver.remote.webelement.WebElement (session=\"eb274e55fff6aeec38b0926336797085\", element=\"5b0b8ca9-3c79-432a-850f-e4b5fcece16d\")>,\n",
       " <selenium.webdriver.remote.webelement.WebElement (session=\"eb274e55fff6aeec38b0926336797085\", element=\"2eaf4cfe-4b19-42a9-98e5-dd6b31fbaf5d\")>,\n",
       " <selenium.webdriver.remote.webelement.WebElement (session=\"eb274e55fff6aeec38b0926336797085\", element=\"d5d87655-8c8c-4c40-bd81-fd3cc63bd7f1\")>,\n",
       " <selenium.webdriver.remote.webelement.WebElement (session=\"eb274e55fff6aeec38b0926336797085\", element=\"ed02edd6-7e75-4066-9924-b90a012d1d31\")>,\n",
       " <selenium.webdriver.remote.webelement.WebElement (session=\"eb274e55fff6aeec38b0926336797085\", element=\"35f6367b-35ba-4dab-b9e6-d0efe5440a60\")>,\n",
       " <selenium.webdriver.remote.webelement.WebElement (session=\"eb274e55fff6aeec38b0926336797085\", element=\"ed16031e-e8ba-469c-8f88-fa6881cdb8bf\")>,\n",
       " <selenium.webdriver.remote.webelement.WebElement (session=\"eb274e55fff6aeec38b0926336797085\", element=\"9ab33d9a-ae67-4d8b-888b-872cdd8a7d93\")>,\n",
       " <selenium.webdriver.remote.webelement.WebElement (session=\"eb274e55fff6aeec38b0926336797085\", element=\"1cdf3759-e502-4b00-8270-293b4d942f61\")>,\n",
       " <selenium.webdriver.remote.webelement.WebElement (session=\"eb274e55fff6aeec38b0926336797085\", element=\"c8f0b4fa-2f46-4b1c-9aa6-b34ab26837e6\")>]"
      ]
     },
     "execution_count": 122,
     "metadata": {},
     "output_type": "execute_result"
    }
   ],
   "source": [
    "column_values=driver.find_elements_by_xpath(\"//table[@id='tablepress-48']//tbody//tr//td[1]\")\n",
    "column_values"
   ]
  },
  {
   "cell_type": "code",
   "execution_count": 123,
   "id": "a3e30e64",
   "metadata": {},
   "outputs": [],
   "source": [
    "val1=[]\n",
    "for i in column_values:\n",
    "    val1.append(i.text)"
   ]
  },
  {
   "cell_type": "code",
   "execution_count": 124,
   "id": "452fb4f1",
   "metadata": {},
   "outputs": [
    {
     "data": {
      "text/plain": [
       "['1', '2', '3', '4', '5', '6', '7', '8', '9', '10']"
      ]
     },
     "execution_count": 124,
     "metadata": {},
     "output_type": "execute_result"
    }
   ],
   "source": [
    "val1"
   ]
  },
  {
   "cell_type": "code",
   "execution_count": 125,
   "id": "8e39bbd6",
   "metadata": {},
   "outputs": [],
   "source": [
    "column_values2=driver.find_elements_by_xpath(\"//table[@id='tablepress-48']//tbody//tr//td[2]\")\n"
   ]
  },
  {
   "cell_type": "code",
   "execution_count": 126,
   "id": "ba505c61",
   "metadata": {},
   "outputs": [],
   "source": [
    "val2=[]\n",
    "for i in column_values2:\n",
    "    val2.append(i.text)"
   ]
  },
  {
   "cell_type": "code",
   "execution_count": 127,
   "id": "f70a33e2",
   "metadata": {},
   "outputs": [
    {
     "data": {
      "text/plain": [
       "['15/07/2020',\n",
       " '16/07/2020',\n",
       " '16/07/2020',\n",
       " '14/07/2020',\n",
       " '13/07/2020',\n",
       " '09/07/2020',\n",
       " '10/07/2020',\n",
       " '15/07/2020',\n",
       " '14/07/2020',\n",
       " '13/07/2020']"
      ]
     },
     "execution_count": 127,
     "metadata": {},
     "output_type": "execute_result"
    }
   ],
   "source": [
    "val2"
   ]
  },
  {
   "cell_type": "code",
   "execution_count": 128,
   "id": "03a5081e",
   "metadata": {},
   "outputs": [],
   "source": [
    "column_values3=driver.find_elements_by_xpath(\"//table[@id='tablepress-48']//tbody//tr//td[3]\")\n"
   ]
  },
  {
   "cell_type": "code",
   "execution_count": 129,
   "id": "76a22886",
   "metadata": {},
   "outputs": [],
   "source": [
    "val3=[]\n",
    "for i in column_values3:\n",
    "    val3.append(i.text)"
   ]
  },
  {
   "cell_type": "code",
   "execution_count": 130,
   "id": "006377c3",
   "metadata": {},
   "outputs": [
    {
     "data": {
      "text/plain": [
       "['Flipkart',\n",
       " 'Vedantu',\n",
       " 'Crio',\n",
       " 'goDutch',\n",
       " 'Mystifly',\n",
       " 'JetSynthesys',\n",
       " 'gigIndia',\n",
       " 'PumPumPum',\n",
       " 'FLYX',\n",
       " 'Open Appliances Pvt. Ltd.']"
      ]
     },
     "execution_count": 130,
     "metadata": {},
     "output_type": "execute_result"
    }
   ],
   "source": [
    "val3"
   ]
  },
  {
   "cell_type": "code",
   "execution_count": 131,
   "id": "f2353f5a",
   "metadata": {},
   "outputs": [],
   "source": [
    "column_values4=driver.find_elements_by_xpath(\"//table[@id='tablepress-48']//tbody//tr//td[4]\")\n"
   ]
  },
  {
   "cell_type": "code",
   "execution_count": 132,
   "id": "0ab78193",
   "metadata": {},
   "outputs": [],
   "source": [
    "val4=[]\n",
    "for i in column_values4:\n",
    "    val4.append(i.text)"
   ]
  },
  {
   "cell_type": "code",
   "execution_count": 133,
   "id": "8d1e737a",
   "metadata": {},
   "outputs": [
    {
     "data": {
      "text/plain": [
       "['E-commerce',\n",
       " 'EduTech',\n",
       " 'EduTech',\n",
       " 'FinTech',\n",
       " 'Airfare Marketplace',\n",
       " 'Gaming and Entertainment',\n",
       " 'Marketplace',\n",
       " 'Automotive Rental',\n",
       " 'OTT Player',\n",
       " 'Information Technology']"
      ]
     },
     "execution_count": 133,
     "metadata": {},
     "output_type": "execute_result"
    }
   ],
   "source": [
    "val4"
   ]
  },
  {
   "cell_type": "code",
   "execution_count": 134,
   "id": "94fcae75",
   "metadata": {},
   "outputs": [],
   "source": [
    "column_values5=driver.find_elements_by_xpath(\"//table[@id='tablepress-48']//tbody//tr//td[5]\")\n"
   ]
  },
  {
   "cell_type": "code",
   "execution_count": 135,
   "id": "aeaf108c",
   "metadata": {},
   "outputs": [],
   "source": [
    "val5=[]\n",
    "for i in column_values5:\n",
    "    val5.append(i.text)"
   ]
  },
  {
   "cell_type": "code",
   "execution_count": 136,
   "id": "d768d183",
   "metadata": {},
   "outputs": [
    {
     "data": {
      "text/plain": [
       "['E-commerce',\n",
       " 'Online Tutoring',\n",
       " 'Learning Platform for Developers',\n",
       " 'Group Payments',\n",
       " 'Ticketing, Airline Retailing, and Post-Ticketing Services',\n",
       " 'Gaming and Entertainment',\n",
       " 'Crowd Sourcing, Freelance',\n",
       " 'Used Car-leasing platform',\n",
       " 'Streaming Social Network',\n",
       " 'Internet-of-Things Security Solutions']"
      ]
     },
     "execution_count": 136,
     "metadata": {},
     "output_type": "execute_result"
    }
   ],
   "source": [
    "val5"
   ]
  },
  {
   "cell_type": "code",
   "execution_count": 137,
   "id": "52ce6e82",
   "metadata": {},
   "outputs": [],
   "source": [
    "column_values6=driver.find_elements_by_xpath(\"//table[@id='tablepress-48']//tbody//tr//td[6]\")\n"
   ]
  },
  {
   "cell_type": "code",
   "execution_count": 138,
   "id": "6c62851b",
   "metadata": {},
   "outputs": [],
   "source": [
    "val6=[]\n",
    "for i in column_values6:\n",
    "    val6.append(i.text)"
   ]
  },
  {
   "cell_type": "code",
   "execution_count": 139,
   "id": "140f7f9e",
   "metadata": {},
   "outputs": [
    {
     "data": {
      "text/plain": [
       "['Bangalore',\n",
       " 'Bangalore',\n",
       " 'Bangalore',\n",
       " 'Mumbai',\n",
       " 'Singapore and Bangalore',\n",
       " 'Pune',\n",
       " 'Pune',\n",
       " 'Gurgaon',\n",
       " 'New York and Delhi',\n",
       " 'Bangalore']"
      ]
     },
     "execution_count": 139,
     "metadata": {},
     "output_type": "execute_result"
    }
   ],
   "source": [
    "val6"
   ]
  },
  {
   "cell_type": "code",
   "execution_count": 140,
   "id": "ed7cd084",
   "metadata": {},
   "outputs": [],
   "source": [
    "column_values7=driver.find_elements_by_xpath(\"//table[@id='tablepress-48']//tbody//tr//td[7]\")\n"
   ]
  },
  {
   "cell_type": "code",
   "execution_count": 141,
   "id": "e2d40a13",
   "metadata": {},
   "outputs": [],
   "source": [
    "val7=[]\n",
    "for i in column_values7:\n",
    "    val7.append(i.text)"
   ]
  },
  {
   "cell_type": "code",
   "execution_count": 142,
   "id": "d54961d5",
   "metadata": {},
   "outputs": [
    {
     "data": {
      "text/plain": [
       "['Walmart Inc',\n",
       " 'Coatue Management',\n",
       " '021 Capital',\n",
       " 'Matrix India,Y Combinator, Global Founders Capital, Soma Capital, and VentureSouq.',\n",
       " 'Recruit Co. Ltd.',\n",
       " 'Adar Poonawalla and Kris Gopalakrishnan.',\n",
       " 'Incubate Fund India and Beyond Next Ventures',\n",
       " 'Early Adapters Syndicate',\n",
       " 'Raj Mishra, founder of AIT Global Inc',\n",
       " 'Unicorn India Ventures']"
      ]
     },
     "execution_count": 142,
     "metadata": {},
     "output_type": "execute_result"
    }
   ],
   "source": [
    "val7"
   ]
  },
  {
   "cell_type": "code",
   "execution_count": 143,
   "id": "cd4743f9",
   "metadata": {},
   "outputs": [],
   "source": [
    "column_values8=driver.find_elements_by_xpath(\"//table[@id='tablepress-48']//tbody//tr//td[8]\")\n"
   ]
  },
  {
   "cell_type": "code",
   "execution_count": 144,
   "id": "14cb629c",
   "metadata": {},
   "outputs": [],
   "source": [
    "val8=[]\n",
    "for i in column_values8:\n",
    "    val8.append(i.text)"
   ]
  },
  {
   "cell_type": "code",
   "execution_count": 145,
   "id": "d5a782db",
   "metadata": {},
   "outputs": [
    {
     "data": {
      "text/plain": [
       "['M&A',\n",
       " 'Series D',\n",
       " 'pre-Series A',\n",
       " 'Seed',\n",
       " 'pre-Series B',\n",
       " 'Venture-Series Unknown',\n",
       " 'pre-Series A',\n",
       " 'Seed',\n",
       " 'pre-Seed',\n",
       " 'Venture-Series Unknown']"
      ]
     },
     "execution_count": 145,
     "metadata": {},
     "output_type": "execute_result"
    }
   ],
   "source": [
    "val8"
   ]
  },
  {
   "cell_type": "code",
   "execution_count": 146,
   "id": "8730e9ba",
   "metadata": {},
   "outputs": [],
   "source": [
    "column_values9=driver.find_elements_by_xpath(\"//table[@id='tablepress-48']//tbody//tr//td[9]\")\n"
   ]
  },
  {
   "cell_type": "code",
   "execution_count": 147,
   "id": "b7419931",
   "metadata": {},
   "outputs": [],
   "source": [
    "val9=[]\n",
    "for i in column_values9:\n",
    "    val9.append(i.text)"
   ]
  },
  {
   "cell_type": "code",
   "execution_count": 148,
   "id": "05188906",
   "metadata": {},
   "outputs": [
    {
     "data": {
      "text/plain": [
       "['1,200,000,000',\n",
       " '100,000,000',\n",
       " '934,160',\n",
       " '1,700,000',\n",
       " '3,300,000',\n",
       " '400,000',\n",
       " '974,200',\n",
       " '292,800',\n",
       " '200,000',\n",
       " '500,000']"
      ]
     },
     "execution_count": 148,
     "metadata": {},
     "output_type": "execute_result"
    }
   ],
   "source": [
    "val9"
   ]
  },
  {
   "cell_type": "code",
   "execution_count": 149,
   "id": "fe7739d2",
   "metadata": {},
   "outputs": [
    {
     "name": "stdout",
     "output_type": "stream",
     "text": [
      "  Sr. No. Date (dd/mm/yyyy)               Startup Name  \\\n",
      "0       1        15/07/2020                   Flipkart   \n",
      "1       2        16/07/2020                    Vedantu   \n",
      "2       3        16/07/2020                       Crio   \n",
      "3       4        14/07/2020                    goDutch   \n",
      "4       5        13/07/2020                   Mystifly   \n",
      "5       6        09/07/2020               JetSynthesys   \n",
      "6       7        10/07/2020                   gigIndia   \n",
      "7       8        15/07/2020                  PumPumPum   \n",
      "8       9        14/07/2020                       FLYX   \n",
      "9      10        13/07/2020  Open Appliances Pvt. Ltd.   \n",
      "\n",
      "        Industry / Vertical  \\\n",
      "0                E-commerce   \n",
      "1                   EduTech   \n",
      "2                   EduTech   \n",
      "3                   FinTech   \n",
      "4       Airfare Marketplace   \n",
      "5  Gaming and Entertainment   \n",
      "6               Marketplace   \n",
      "7         Automotive Rental   \n",
      "8                OTT Player   \n",
      "9    Information Technology   \n",
      "\n",
      "                                        Sub-Vertical          City / Location  \\\n",
      "0                                         E-commerce                Bangalore   \n",
      "1                                    Online Tutoring                Bangalore   \n",
      "2                   Learning Platform for Developers                Bangalore   \n",
      "3                                     Group Payments                   Mumbai   \n",
      "4  Ticketing, Airline Retailing, and Post-Ticketi...  Singapore and Bangalore   \n",
      "5                           Gaming and Entertainment                     Pune   \n",
      "6                          Crowd Sourcing, Freelance                     Pune   \n",
      "7                          Used Car-leasing platform                  Gurgaon   \n",
      "8                           Streaming Social Network       New York and Delhi   \n",
      "9              Internet-of-Things Security Solutions                Bangalore   \n",
      "\n",
      "                                     Investors' Name         Investment Type  \\\n",
      "0                                        Walmart Inc                     M&A   \n",
      "1                                  Coatue Management                Series D   \n",
      "2                                        021 Capital            pre-Series A   \n",
      "3  Matrix India,Y Combinator, Global Founders Cap...                    Seed   \n",
      "4                                   Recruit Co. Ltd.            pre-Series B   \n",
      "5           Adar Poonawalla and Kris Gopalakrishnan.  Venture-Series Unknown   \n",
      "6       Incubate Fund India and Beyond Next Ventures            pre-Series A   \n",
      "7                           Early Adapters Syndicate                    Seed   \n",
      "8              Raj Mishra, founder of AIT Global Inc                pre-Seed   \n",
      "9                             Unicorn India Ventures  Venture-Series Unknown   \n",
      "\n",
      "  Amount (In USD)  \n",
      "0   1,200,000,000  \n",
      "1     100,000,000  \n",
      "2         934,160  \n",
      "3       1,700,000  \n",
      "4       3,300,000  \n",
      "5         400,000  \n",
      "6         974,200  \n",
      "7         292,800  \n",
      "8         200,000  \n",
      "9         500,000  \n"
     ]
    }
   ],
   "source": [
    "df1 = pd.DataFrame(list(zip(val1,val2,val3,val4,val5,val6,val7,val8,val9)), columns =cols) \n",
    "print(df1) "
   ]
  },
  {
   "cell_type": "code",
   "execution_count": 150,
   "id": "f1b3761d",
   "metadata": {},
   "outputs": [
    {
     "data": {
      "text/plain": [
       "[<selenium.webdriver.remote.webelement.WebElement (session=\"eb274e55fff6aeec38b0926336797085\", element=\"8edb74ba-8047-44b0-8e36-760495b3899e\")>,\n",
       " <selenium.webdriver.remote.webelement.WebElement (session=\"eb274e55fff6aeec38b0926336797085\", element=\"ab10a61e-ea98-42b6-81b0-3742a3242f82\")>,\n",
       " <selenium.webdriver.remote.webelement.WebElement (session=\"eb274e55fff6aeec38b0926336797085\", element=\"ae8c533a-6be9-4398-a43f-70ed3d7903c0\")>,\n",
       " <selenium.webdriver.remote.webelement.WebElement (session=\"eb274e55fff6aeec38b0926336797085\", element=\"4b5ca80d-02cd-4248-90fe-1c029bb60e0c\")>,\n",
       " <selenium.webdriver.remote.webelement.WebElement (session=\"eb274e55fff6aeec38b0926336797085\", element=\"af85a6a0-ee3b-4587-8bc8-3dc8bae0a193\")>,\n",
       " <selenium.webdriver.remote.webelement.WebElement (session=\"eb274e55fff6aeec38b0926336797085\", element=\"5d636766-b8ea-44fb-80e0-dc60efbd9689\")>,\n",
       " <selenium.webdriver.remote.webelement.WebElement (session=\"eb274e55fff6aeec38b0926336797085\", element=\"85301768-1c4d-4142-8f31-b80727619424\")>,\n",
       " <selenium.webdriver.remote.webelement.WebElement (session=\"eb274e55fff6aeec38b0926336797085\", element=\"bc49e3be-8476-4628-b8e7-717dad303712\")>,\n",
       " <selenium.webdriver.remote.webelement.WebElement (session=\"eb274e55fff6aeec38b0926336797085\", element=\"98948849-0f2f-4086-a67d-0ca26e9761e4\")>,\n",
       " <selenium.webdriver.remote.webelement.WebElement (session=\"eb274e55fff6aeec38b0926336797085\", element=\"341d3673-116f-4f44-b72a-5013d0346d24\")>,\n",
       " <selenium.webdriver.remote.webelement.WebElement (session=\"eb274e55fff6aeec38b0926336797085\", element=\"ba38e33e-91a6-4672-9655-0f7e1bebddc6\")>,\n",
       " <selenium.webdriver.remote.webelement.WebElement (session=\"eb274e55fff6aeec38b0926336797085\", element=\"04cd38fa-234d-4867-84b8-71ed6aa0d14f\")>,\n",
       " <selenium.webdriver.remote.webelement.WebElement (session=\"eb274e55fff6aeec38b0926336797085\", element=\"38eca200-70cd-4e3d-86ac-4119bd018a00\")>,\n",
       " <selenium.webdriver.remote.webelement.WebElement (session=\"eb274e55fff6aeec38b0926336797085\", element=\"115459d2-b28f-4382-b555-a5e271d2dca0\")>,\n",
       " <selenium.webdriver.remote.webelement.WebElement (session=\"eb274e55fff6aeec38b0926336797085\", element=\"8981c4f5-903f-4a85-b927-4702c51536e2\")>,\n",
       " <selenium.webdriver.remote.webelement.WebElement (session=\"eb274e55fff6aeec38b0926336797085\", element=\"8c931964-6ba4-40b2-a044-00fe95176fc8\")>,\n",
       " <selenium.webdriver.remote.webelement.WebElement (session=\"eb274e55fff6aeec38b0926336797085\", element=\"d0c729c1-8815-4d9a-bd7a-882fcc963e95\")>,\n",
       " <selenium.webdriver.remote.webelement.WebElement (session=\"eb274e55fff6aeec38b0926336797085\", element=\"61069fc6-1145-4b26-a2ca-d84acd4efe9e\")>]"
      ]
     },
     "execution_count": 150,
     "metadata": {},
     "output_type": "execute_result"
    }
   ],
   "source": [
    "col_header=driver.find_elements_by_xpath(\"//th[@aria-controls='tablepress-49']\")\n",
    "col_header"
   ]
  },
  {
   "cell_type": "code",
   "execution_count": 151,
   "id": "e35602e1",
   "metadata": {},
   "outputs": [],
   "source": [
    "col_headers=[]\n",
    "for i in col_header:\n",
    "    col_headers.append(i.text)"
   ]
  },
  {
   "cell_type": "code",
   "execution_count": 152,
   "id": "1d8805b8",
   "metadata": {},
   "outputs": [
    {
     "data": {
      "text/plain": [
       "['Sr. No.',\n",
       " 'Date (dd/mm/yyyy)',\n",
       " 'Startup Name',\n",
       " 'Industry / Vertical',\n",
       " 'Sub-Vertical',\n",
       " 'City / Location',\n",
       " \"Investors' Name\",\n",
       " 'Investment Type',\n",
       " 'Amount (In USD)',\n",
       " '',\n",
       " '',\n",
       " '',\n",
       " '',\n",
       " '',\n",
       " '',\n",
       " '',\n",
       " '',\n",
       " '']"
      ]
     },
     "execution_count": 152,
     "metadata": {},
     "output_type": "execute_result"
    }
   ],
   "source": [
    "col_headers"
   ]
  },
  {
   "cell_type": "code",
   "execution_count": 153,
   "id": "cf9f4f4e",
   "metadata": {},
   "outputs": [],
   "source": [
    "colss=[]\n",
    "for i in range(len(col_headers)):\n",
    "    if i < 9:\n",
    "        colss.append(col_headers[i])\n",
    "    else:\n",
    "        break\n",
    "   "
   ]
  },
  {
   "cell_type": "code",
   "execution_count": 154,
   "id": "9581daa0",
   "metadata": {},
   "outputs": [
    {
     "data": {
      "text/plain": [
       "['Sr. No.',\n",
       " 'Date (dd/mm/yyyy)',\n",
       " 'Startup Name',\n",
       " 'Industry / Vertical',\n",
       " 'Sub-Vertical',\n",
       " 'City / Location',\n",
       " \"Investors' Name\",\n",
       " 'Investment Type',\n",
       " 'Amount (In USD)']"
      ]
     },
     "execution_count": 154,
     "metadata": {},
     "output_type": "execute_result"
    }
   ],
   "source": [
    "colss"
   ]
  },
  {
   "cell_type": "code",
   "execution_count": 155,
   "id": "fdfc4e67",
   "metadata": {},
   "outputs": [
    {
     "data": {
      "text/plain": [
       "[<selenium.webdriver.remote.webelement.WebElement (session=\"eb274e55fff6aeec38b0926336797085\", element=\"5475755b-5edd-4b19-a6a3-ca545cd2cdc5\")>,\n",
       " <selenium.webdriver.remote.webelement.WebElement (session=\"eb274e55fff6aeec38b0926336797085\", element=\"1a799ae3-e06e-42fc-a930-f1806198fc90\")>,\n",
       " <selenium.webdriver.remote.webelement.WebElement (session=\"eb274e55fff6aeec38b0926336797085\", element=\"24c18bbe-9bec-4d47-94b3-a9488e9c0c63\")>,\n",
       " <selenium.webdriver.remote.webelement.WebElement (session=\"eb274e55fff6aeec38b0926336797085\", element=\"7371041b-d1ac-40c6-ba5d-0a874b9292e9\")>,\n",
       " <selenium.webdriver.remote.webelement.WebElement (session=\"eb274e55fff6aeec38b0926336797085\", element=\"602ae43b-55bf-45ba-a181-3431654598b6\")>,\n",
       " <selenium.webdriver.remote.webelement.WebElement (session=\"eb274e55fff6aeec38b0926336797085\", element=\"3ffafa51-897f-4304-8c6a-909717d0fbd0\")>,\n",
       " <selenium.webdriver.remote.webelement.WebElement (session=\"eb274e55fff6aeec38b0926336797085\", element=\"cf3797c2-2e02-4b09-9dd8-8cfab2e6cdc5\")>,\n",
       " <selenium.webdriver.remote.webelement.WebElement (session=\"eb274e55fff6aeec38b0926336797085\", element=\"47b7f5aa-bddb-4ea2-8f28-b48e503469b5\")>,\n",
       " <selenium.webdriver.remote.webelement.WebElement (session=\"eb274e55fff6aeec38b0926336797085\", element=\"03e60127-07b4-4df7-a043-e43637802751\")>,\n",
       " <selenium.webdriver.remote.webelement.WebElement (session=\"eb274e55fff6aeec38b0926336797085\", element=\"acc99a75-6855-422c-a90e-b308c3357d82\")>]"
      ]
     },
     "execution_count": 155,
     "metadata": {},
     "output_type": "execute_result"
    }
   ],
   "source": [
    "column_valuess=driver.find_elements_by_xpath(\"//table[@id='tablepress-49']//tbody//tr//td[1]\")\n",
    "column_valuess"
   ]
  },
  {
   "cell_type": "code",
   "execution_count": 156,
   "id": "e7271df0",
   "metadata": {},
   "outputs": [],
   "source": [
    "val11=[]\n",
    "for i in column_valuess:\n",
    "    val11.append(i.text)"
   ]
  },
  {
   "cell_type": "code",
   "execution_count": 157,
   "id": "f8bfeb64",
   "metadata": {},
   "outputs": [],
   "source": [
    "column_valuess2=driver.find_elements_by_xpath(\"//table[@id='tablepress-49']//tbody//tr//td[2]\")\n"
   ]
  },
  {
   "cell_type": "code",
   "execution_count": 158,
   "id": "61b0fcf4",
   "metadata": {},
   "outputs": [
    {
     "data": {
      "text/plain": [
       "['1', '2', '3', '4', '5', '6', '7', '8', '9', '10']"
      ]
     },
     "execution_count": 158,
     "metadata": {},
     "output_type": "execute_result"
    }
   ],
   "source": [
    "val11"
   ]
  },
  {
   "cell_type": "code",
   "execution_count": 159,
   "id": "54bb1396",
   "metadata": {},
   "outputs": [],
   "source": [
    "val22=[]\n",
    "for i in column_valuess2:\n",
    "    val22.append(i.text)"
   ]
  },
  {
   "cell_type": "code",
   "execution_count": 160,
   "id": "85cb82ca",
   "metadata": {},
   "outputs": [],
   "source": [
    "column_valuess3=driver.find_elements_by_xpath(\"//table[@id='tablepress-49']//tbody//tr//td[3]\")\n"
   ]
  },
  {
   "cell_type": "code",
   "execution_count": 161,
   "id": "16ebe1d2",
   "metadata": {},
   "outputs": [
    {
     "data": {
      "text/plain": [
       "['15/08/2020',\n",
       " '13/08/2020',\n",
       " '13/08/2020',\n",
       " '04/08/2020',\n",
       " '11/08/2020',\n",
       " '12/08/2020',\n",
       " '14/08/2020',\n",
       " '10/08/2020',\n",
       " '07/08/2020',\n",
       " '13/08/2020']"
      ]
     },
     "execution_count": 161,
     "metadata": {},
     "output_type": "execute_result"
    }
   ],
   "source": [
    "val22"
   ]
  },
  {
   "cell_type": "code",
   "execution_count": 162,
   "id": "c30e6411",
   "metadata": {},
   "outputs": [],
   "source": [
    "val33=[]\n",
    "for i in column_valuess3:\n",
    "    val33.append(i.text)"
   ]
  },
  {
   "cell_type": "code",
   "execution_count": 163,
   "id": "3615e600",
   "metadata": {},
   "outputs": [
    {
     "data": {
      "text/plain": [
       "['Practo',\n",
       " 'Medlife',\n",
       " 'HungerBox',\n",
       " 'Dunzo',\n",
       " 'Terra.do',\n",
       " 'Classplus',\n",
       " 'Niyo',\n",
       " 'ZestMoney',\n",
       " 'FreshToHome',\n",
       " 'Eduvanz']"
      ]
     },
     "execution_count": 163,
     "metadata": {},
     "output_type": "execute_result"
    }
   ],
   "source": [
    "val33"
   ]
  },
  {
   "cell_type": "code",
   "execution_count": 164,
   "id": "81fa0871",
   "metadata": {},
   "outputs": [],
   "source": [
    "column_valuess4=driver.find_elements_by_xpath(\"//table[@id='tablepress-49']//tbody//tr//td[4]\")\n"
   ]
  },
  {
   "cell_type": "code",
   "execution_count": 165,
   "id": "cd26654b",
   "metadata": {},
   "outputs": [],
   "source": [
    "val44=[]\n",
    "for i in column_valuess4:\n",
    "    val44.append(i.text)"
   ]
  },
  {
   "cell_type": "code",
   "execution_count": 166,
   "id": "fdc07402",
   "metadata": {},
   "outputs": [],
   "source": [
    "column_valuess5=driver.find_elements_by_xpath(\"//table[@id='tablepress-49']//tbody//tr//td[5]\")\n"
   ]
  },
  {
   "cell_type": "code",
   "execution_count": 167,
   "id": "dd986dc7",
   "metadata": {},
   "outputs": [],
   "source": [
    "val55=[]\n",
    "for i in column_valuess5:\n",
    "    val55.append(i.text)"
   ]
  },
  {
   "cell_type": "code",
   "execution_count": 168,
   "id": "0fe5b0cb",
   "metadata": {},
   "outputs": [],
   "source": [
    "column_valuess6=driver.find_elements_by_xpath(\"//table[@id='tablepress-49']//tbody//tr//td[6]\")"
   ]
  },
  {
   "cell_type": "code",
   "execution_count": 169,
   "id": "46285864",
   "metadata": {},
   "outputs": [],
   "source": [
    "val66=[]\n",
    "for i in column_valuess6:\n",
    "    val66.append(i.text)"
   ]
  },
  {
   "cell_type": "code",
   "execution_count": 170,
   "id": "ba6182a2",
   "metadata": {},
   "outputs": [],
   "source": [
    "column_valuess7=driver.find_elements_by_xpath(\"//table[@id='tablepress-49']//tbody//tr//td[7]\")\n"
   ]
  },
  {
   "cell_type": "code",
   "execution_count": 171,
   "id": "a7aa26c2",
   "metadata": {},
   "outputs": [],
   "source": [
    "val77=[]\n",
    "for i in column_valuess7:\n",
    "    val77.append(i.text)"
   ]
  },
  {
   "cell_type": "code",
   "execution_count": 172,
   "id": "ab2f6dd7",
   "metadata": {},
   "outputs": [],
   "source": [
    "column_valuess8=driver.find_elements_by_xpath(\"//table[@id='tablepress-49']//tbody//tr//td[8]\")\n"
   ]
  },
  {
   "cell_type": "code",
   "execution_count": 173,
   "id": "c75b5461",
   "metadata": {},
   "outputs": [],
   "source": [
    "val88=[]\n",
    "for i in column_valuess8:\n",
    "    val88.append(i.text)"
   ]
  },
  {
   "cell_type": "code",
   "execution_count": 174,
   "id": "a3cf7cb5",
   "metadata": {},
   "outputs": [],
   "source": [
    "column_valuess9=driver.find_elements_by_xpath(\"//table[@id='tablepress-49']//tbody//tr//td[9]\")"
   ]
  },
  {
   "cell_type": "code",
   "execution_count": 175,
   "id": "8959e958",
   "metadata": {},
   "outputs": [],
   "source": [
    "val99=[]\n",
    "for i in column_valuess9:\n",
    "    val99.append(i.text)"
   ]
  },
  {
   "cell_type": "code",
   "execution_count": 176,
   "id": "3d5fd014",
   "metadata": {},
   "outputs": [
    {
     "name": "stdout",
     "output_type": "stream",
     "text": [
      "  Sr. No. Date (dd/mm/yyyy) Startup Name    Industry / Vertical  \\\n",
      "0       1        15/08/2020       Practo             HealthTech   \n",
      "1       2        13/08/2020      Medlife             E-commerce   \n",
      "2       3        13/08/2020    HungerBox               FoodTech   \n",
      "3       4        04/08/2020        Dunzo  Hyper-local Logistics   \n",
      "4       5        11/08/2020     Terra.do                EduTech   \n",
      "5       6        12/08/2020    Classplus                EduTech   \n",
      "6       7        14/08/2020         Niyo                FinTech   \n",
      "7       8        10/08/2020    ZestMoney                FinTech   \n",
      "8       9        07/08/2020  FreshToHome             E-commerce   \n",
      "9      10        13/08/2020      Eduvanz                FinTech   \n",
      "\n",
      "                        Sub-Vertical        City / Location  \\\n",
      "0           Health care and Wellness              Bangalore   \n",
      "1                    Online Pharmacy              Bangalore   \n",
      "2       Online Food Delivery Service              Bangalore   \n",
      "3           Online Delivery Services              Bangalore   \n",
      "4  Online Climate School, E-learning  Stanford, California,   \n",
      "5        E-learning, Online Tutoring                  Noida   \n",
      "6                 Financial Services              Bangalore   \n",
      "7                 Financial Services              Bangalore   \n",
      "8                      Food Delivery              Bangalore   \n",
      "9                 Financial Services                 Mumbai   \n",
      "\n",
      "                                     Investors' Name Investment Type  \\\n",
      "0                                        A1A Company        Series F   \n",
      "1         Prasid Uno Family Trust and SC Credit Fund                   \n",
      "2  One97, Sabre Partners Trust, Pratithi Investme...       Series D1   \n",
      "3                                   Existing Backers     In Progress   \n",
      "4  Stanford Angels and Entrepreneurs (India), BEE...            Seed   \n",
      "5                                        Falcon Edge     In Progress   \n",
      "6                                Niyo Solutions Inc.                   \n",
      "7                            Primrose Hills Ventures                   \n",
      "8                                     Ascent Capital         Venture   \n",
      "9                              Sequoia India, Unitus        Series A   \n",
      "\n",
      "   Amount (In USD)  \n",
      "0       32,000,000  \n",
      "1       23,000,000  \n",
      "2        1,560,000  \n",
      "3       30,000,000  \n",
      "4        1,400,000  \n",
      "5  upto 15,000,000  \n",
      "6        6,000,000  \n",
      "7       10,670,000  \n",
      "8       16,200,000  \n",
      "9        5,000,000  \n"
     ]
    }
   ],
   "source": [
    "df2 = pd.DataFrame(list(zip(val11,val22,val33,val44,val55,val66,val77,val88,val99)), columns =colss) \n",
    "print(df2) "
   ]
  },
  {
   "cell_type": "code",
   "execution_count": 177,
   "id": "641fc1f7",
   "metadata": {},
   "outputs": [
    {
     "data": {
      "text/plain": [
       "[<selenium.webdriver.remote.webelement.WebElement (session=\"eb274e55fff6aeec38b0926336797085\", element=\"13c942a9-32b5-462b-bf56-f7764e305c5a\")>,\n",
       " <selenium.webdriver.remote.webelement.WebElement (session=\"eb274e55fff6aeec38b0926336797085\", element=\"4fb53e36-8673-4573-86f8-200ecb2b5643\")>,\n",
       " <selenium.webdriver.remote.webelement.WebElement (session=\"eb274e55fff6aeec38b0926336797085\", element=\"8e03453c-026a-42da-83ef-fd14167d4eb2\")>,\n",
       " <selenium.webdriver.remote.webelement.WebElement (session=\"eb274e55fff6aeec38b0926336797085\", element=\"87d50b14-ac8f-4118-9c14-af70714d7d9b\")>,\n",
       " <selenium.webdriver.remote.webelement.WebElement (session=\"eb274e55fff6aeec38b0926336797085\", element=\"e4a8f686-087a-4916-83d8-75b97dc751d7\")>,\n",
       " <selenium.webdriver.remote.webelement.WebElement (session=\"eb274e55fff6aeec38b0926336797085\", element=\"7e8b64ba-4ef1-45be-b734-c56610966507\")>,\n",
       " <selenium.webdriver.remote.webelement.WebElement (session=\"eb274e55fff6aeec38b0926336797085\", element=\"e372cba3-334f-414f-818b-15f2efcecf7b\")>,\n",
       " <selenium.webdriver.remote.webelement.WebElement (session=\"eb274e55fff6aeec38b0926336797085\", element=\"788291ff-76dc-46d8-866b-b1689597f99b\")>,\n",
       " <selenium.webdriver.remote.webelement.WebElement (session=\"eb274e55fff6aeec38b0926336797085\", element=\"73120519-6e86-43aa-bb3a-e36d42345db6\")>,\n",
       " <selenium.webdriver.remote.webelement.WebElement (session=\"eb274e55fff6aeec38b0926336797085\", element=\"226f6cda-d327-4aa9-b223-7a359a729339\")>,\n",
       " <selenium.webdriver.remote.webelement.WebElement (session=\"eb274e55fff6aeec38b0926336797085\", element=\"6f2e2309-75f2-4c16-8da1-bbbdde340f62\")>,\n",
       " <selenium.webdriver.remote.webelement.WebElement (session=\"eb274e55fff6aeec38b0926336797085\", element=\"d5ddf1a4-6afd-47c6-9dbb-e956e093cd51\")>,\n",
       " <selenium.webdriver.remote.webelement.WebElement (session=\"eb274e55fff6aeec38b0926336797085\", element=\"d32c5217-7d6c-45ce-a743-161c9a5705fb\")>,\n",
       " <selenium.webdriver.remote.webelement.WebElement (session=\"eb274e55fff6aeec38b0926336797085\", element=\"7e1400af-7434-47f7-8666-45f344901788\")>,\n",
       " <selenium.webdriver.remote.webelement.WebElement (session=\"eb274e55fff6aeec38b0926336797085\", element=\"1fec6ff5-d563-46b6-8352-b855fc5dd4bf\")>,\n",
       " <selenium.webdriver.remote.webelement.WebElement (session=\"eb274e55fff6aeec38b0926336797085\", element=\"8a1559a5-70f2-49fb-a92b-1739fc7391cf\")>,\n",
       " <selenium.webdriver.remote.webelement.WebElement (session=\"eb274e55fff6aeec38b0926336797085\", element=\"6c6689ab-fc31-45bd-8d49-0fa71426ef23\")>,\n",
       " <selenium.webdriver.remote.webelement.WebElement (session=\"eb274e55fff6aeec38b0926336797085\", element=\"365b5145-862b-4ecf-93bd-96e6f12b4b3d\")>]"
      ]
     },
     "execution_count": 177,
     "metadata": {},
     "output_type": "execute_result"
    }
   ],
   "source": [
    "col_headerr=driver.find_elements_by_xpath(\"//th[@aria-controls='tablepress-50']\")\n",
    "col_headerr"
   ]
  },
  {
   "cell_type": "code",
   "execution_count": 178,
   "id": "6d634ca0",
   "metadata": {},
   "outputs": [],
   "source": [
    "col_headerss=[]\n",
    "for i in col_headerr:\n",
    "    col_headerss.append(i.text)"
   ]
  },
  {
   "cell_type": "code",
   "execution_count": 179,
   "id": "df04ab7a",
   "metadata": {},
   "outputs": [],
   "source": [
    "colsss=[]\n",
    "for i in range(len(col_headerss)):\n",
    "    if i < 9:\n",
    "        colsss.append(col_headerss[i])\n",
    "    else:\n",
    "        break\n",
    "   "
   ]
  },
  {
   "cell_type": "code",
   "execution_count": 180,
   "id": "c07206f2",
   "metadata": {},
   "outputs": [
    {
     "data": {
      "text/plain": [
       "[<selenium.webdriver.remote.webelement.WebElement (session=\"eb274e55fff6aeec38b0926336797085\", element=\"d45ead9c-6658-4399-9f78-2ae1c8ac45d5\")>,\n",
       " <selenium.webdriver.remote.webelement.WebElement (session=\"eb274e55fff6aeec38b0926336797085\", element=\"22327b90-9090-463f-8d65-484a068ec8c3\")>,\n",
       " <selenium.webdriver.remote.webelement.WebElement (session=\"eb274e55fff6aeec38b0926336797085\", element=\"2e8cce41-f8e2-419a-a752-f58f011b4cb3\")>,\n",
       " <selenium.webdriver.remote.webelement.WebElement (session=\"eb274e55fff6aeec38b0926336797085\", element=\"ad4cc9ec-52c6-44cb-a96b-c6b0de1147c3\")>,\n",
       " <selenium.webdriver.remote.webelement.WebElement (session=\"eb274e55fff6aeec38b0926336797085\", element=\"feafef66-897a-4909-a155-ffd9e02384ae\")>,\n",
       " <selenium.webdriver.remote.webelement.WebElement (session=\"eb274e55fff6aeec38b0926336797085\", element=\"04c2e793-3262-42d0-95e2-64eea22e468b\")>,\n",
       " <selenium.webdriver.remote.webelement.WebElement (session=\"eb274e55fff6aeec38b0926336797085\", element=\"8d1ba8ed-bd38-4f4f-bc20-665117d1e838\")>,\n",
       " <selenium.webdriver.remote.webelement.WebElement (session=\"eb274e55fff6aeec38b0926336797085\", element=\"51aff8ae-21e2-410b-9b0e-5d7b1b4200d3\")>,\n",
       " <selenium.webdriver.remote.webelement.WebElement (session=\"eb274e55fff6aeec38b0926336797085\", element=\"35590b21-c73f-4f1a-bf4d-7b5ad7da26eb\")>,\n",
       " <selenium.webdriver.remote.webelement.WebElement (session=\"eb274e55fff6aeec38b0926336797085\", element=\"15bdb8d0-5863-4134-a2b4-b40ad95a33cd\")>]"
      ]
     },
     "execution_count": 180,
     "metadata": {},
     "output_type": "execute_result"
    }
   ],
   "source": [
    "column_valuesss=driver.find_elements_by_xpath(\"//table[@id='tablepress-50']//tbody//tr//td[1]\")\n",
    "column_valuesss"
   ]
  },
  {
   "cell_type": "code",
   "execution_count": 181,
   "id": "b7c8dbb3",
   "metadata": {},
   "outputs": [],
   "source": [
    "val111=[]\n",
    "for i in column_valuesss:\n",
    "    val111.append(i.text)"
   ]
  },
  {
   "cell_type": "code",
   "execution_count": 182,
   "id": "7cdb2572",
   "metadata": {},
   "outputs": [],
   "source": [
    "column_valuesss2=driver.find_elements_by_xpath(\"//table[@id='tablepress-50']//tbody//tr//td[2]\")\n"
   ]
  },
  {
   "cell_type": "code",
   "execution_count": 183,
   "id": "bf8eed43",
   "metadata": {},
   "outputs": [],
   "source": [
    "val222=[]\n",
    "for i in column_valuesss2:\n",
    "    val222.append(i.text)"
   ]
  },
  {
   "cell_type": "code",
   "execution_count": 184,
   "id": "fbde9ed2",
   "metadata": {},
   "outputs": [],
   "source": [
    "column_valuesss3=driver.find_elements_by_xpath(\"//table[@id='tablepress-50']//tbody//tr//td[3]\")\n"
   ]
  },
  {
   "cell_type": "code",
   "execution_count": 185,
   "id": "1fd4c62b",
   "metadata": {},
   "outputs": [],
   "source": [
    "val333=[]\n",
    "for i in column_valuesss3:\n",
    "    val333.append(i.text)"
   ]
  },
  {
   "cell_type": "code",
   "execution_count": 186,
   "id": "0034b974",
   "metadata": {},
   "outputs": [],
   "source": [
    "column_valuesss4=driver.find_elements_by_xpath(\"//table[@id='tablepress-50']//tbody//tr//td[4]\")\n"
   ]
  },
  {
   "cell_type": "code",
   "execution_count": 187,
   "id": "1924dbd4",
   "metadata": {},
   "outputs": [],
   "source": [
    "val444=[]\n",
    "for i in column_valuesss4:\n",
    "    val444.append(i.text)"
   ]
  },
  {
   "cell_type": "code",
   "execution_count": 188,
   "id": "ca4f1197",
   "metadata": {},
   "outputs": [],
   "source": [
    "column_valuesss5=driver.find_elements_by_xpath(\"//table[@id='tablepress-50']//tbody//tr//td[5]\")\n"
   ]
  },
  {
   "cell_type": "code",
   "execution_count": 189,
   "id": "a61e307b",
   "metadata": {},
   "outputs": [],
   "source": [
    "val555=[]\n",
    "for i in column_valuesss5:\n",
    "    val555.append(i.text)"
   ]
  },
  {
   "cell_type": "code",
   "execution_count": 190,
   "id": "da5d90d7",
   "metadata": {},
   "outputs": [],
   "source": [
    "column_valuesss6=driver.find_elements_by_xpath(\"//table[@id='tablepress-50']//tbody//tr//td[6]\")"
   ]
  },
  {
   "cell_type": "code",
   "execution_count": 191,
   "id": "dc4cf166",
   "metadata": {},
   "outputs": [],
   "source": [
    "val666=[]\n",
    "for i in column_valuesss6:\n",
    "    val666.append(i.text)"
   ]
  },
  {
   "cell_type": "code",
   "execution_count": 192,
   "id": "548cf5ad",
   "metadata": {},
   "outputs": [],
   "source": [
    "column_valuesss7=driver.find_elements_by_xpath(\"//table[@id='tablepress-50']//tbody//tr//td[7]\")\n"
   ]
  },
  {
   "cell_type": "code",
   "execution_count": 193,
   "id": "ad707f34",
   "metadata": {},
   "outputs": [],
   "source": [
    "val777=[]\n",
    "for i in column_valuesss7:\n",
    "    val777.append(i.text)"
   ]
  },
  {
   "cell_type": "code",
   "execution_count": 194,
   "id": "807a3171",
   "metadata": {},
   "outputs": [],
   "source": [
    "column_valuesss8=driver.find_elements_by_xpath(\"//table[@id='tablepress-50']//tbody//tr//td[8]\")\n"
   ]
  },
  {
   "cell_type": "code",
   "execution_count": 195,
   "id": "0bbfbcd9",
   "metadata": {},
   "outputs": [],
   "source": [
    "val888=[]\n",
    "for i in column_valuesss8:\n",
    "    val888.append(i.text)"
   ]
  },
  {
   "cell_type": "code",
   "execution_count": 196,
   "id": "f808b49d",
   "metadata": {},
   "outputs": [],
   "source": [
    "column_valuesss9=driver.find_elements_by_xpath(\"//table[@id='tablepress-50']//tbody//tr//td[9]\")"
   ]
  },
  {
   "cell_type": "code",
   "execution_count": 197,
   "id": "7dc7d7c3",
   "metadata": {},
   "outputs": [],
   "source": [
    "val999=[]\n",
    "for i in column_valuesss9:\n",
    "    val999.append(i.text)"
   ]
  },
  {
   "cell_type": "code",
   "execution_count": 198,
   "id": "12e7ff16",
   "metadata": {},
   "outputs": [
    {
     "name": "stdout",
     "output_type": "stream",
     "text": [
      "  Sr. No. Date (dd/mm/yyyy) Startup Name  \\\n",
      "0       1        08/09/2020       Byju’s   \n",
      "1       2        12/09/2020    mCaffeine   \n",
      "2       3        09/09/2020       Qshala   \n",
      "3       4        02/09/2020        Winzo   \n",
      "4       5        09/09/2020  Hippo Video   \n",
      "5       6        07/09/2020      Melorra   \n",
      "6       7        07/09/2020          1mg   \n",
      "7       8        31/08/2020        mfine   \n",
      "8       9        31/08/2020         Apna   \n",
      "9      10        03/09/2020      Railofy   \n",
      "\n",
      "                      Industry / Vertical  \\\n",
      "0                                 EduTech   \n",
      "1                           Personal Care   \n",
      "2                                 EduTech   \n",
      "3                           Online Gaming   \n",
      "4  Video Customer Experience(CX) Platform   \n",
      "5                              E-commerce   \n",
      "6                              E-commerce   \n",
      "7                              HealthTech   \n",
      "8                         Human Resources   \n",
      "9                          Transportation   \n",
      "\n",
      "                             Sub-Vertical  \\\n",
      "0                         Online Tutoring   \n",
      "1                     Skincare & Haircare   \n",
      "2      Online Curiosity Platform for Kids   \n",
      "3                           Online Gaming   \n",
      "4  Video Customer Experience(CX) Platform   \n",
      "5                    Online Jewelry Store   \n",
      "6                         Online Pharmacy   \n",
      "7           On-Demand Healthcare Services   \n",
      "8                    Recruitment Platform   \n",
      "9            WL & RAC protection platform   \n",
      "\n",
      "                              City / Location  \\\n",
      "0                                   Bangalore   \n",
      "1                                      Mumbai   \n",
      "2                                   Bangalore   \n",
      "3                                   New Delhi   \n",
      "4  Newark, Delaware, United States of Amercia   \n",
      "5                                   Bangalore   \n",
      "6                                     Gurgaon   \n",
      "7                                   Bangalore   \n",
      "8                                   Bangalore   \n",
      "9                                      Mumbai   \n",
      "\n",
      "                                     Investors' Name Investment Type  \\\n",
      "0  Silver Lake, Tiger Global, General Atlantic an...  Private Equity   \n",
      "1  Amicus Capital Private Equity I LLP, Amicus Ca...        Series B   \n",
      "2                                 Rainmatter Capital           Angel   \n",
      "3  Kalaari Capital Partners, IndigoEdge Managemen...        Series B   \n",
      "4  Alpha Wave Incubation, Exfinity Venture Partne...        Series A   \n",
      "5                         Shadow Holdings, Lightbox.  Debt Financing   \n",
      "6         Gaja Capital, Tata Capital, Partners Group     In Progress   \n",
      "7                                   Caretech Pte Inc        Series B   \n",
      "8         Lightspeed India and Sequoia Capital India        Series A   \n",
      "9                                  Chiratae Ventures            Seed   \n",
      "\n",
      "  Amount (In USD)  \n",
      "0     500,000,000  \n",
      "1       3,000,000  \n",
      "2         370,000  \n",
      "3      15,500,000  \n",
      "4       4,500,000  \n",
      "5  upto 8,900,000  \n",
      "6     100,000,000  \n",
      "7       5,400,000  \n",
      "8       8,000,000  \n",
      "9         950,000  \n"
     ]
    }
   ],
   "source": [
    "df3= pd.DataFrame(list(zip(val111,val222,val333,val444,val555,val666,val777,val888,val999)), columns =colsss) \n",
    "print(df3) "
   ]
  },
  {
   "cell_type": "code",
   "execution_count": 199,
   "id": "2f5ea7e5",
   "metadata": {},
   "outputs": [
    {
     "data": {
      "text/html": [
       "<style  type=\"text/css\" >\n",
       "</style><table id=\"T_cd978_\" style='display:inline'><caption>JULY, 2020</caption><thead>    <tr>        <th class=\"blank level0\" ></th>        <th class=\"col_heading level0 col0\" >Sr. No.</th>        <th class=\"col_heading level0 col1\" >Date (dd/mm/yyyy)</th>        <th class=\"col_heading level0 col2\" >Startup Name</th>        <th class=\"col_heading level0 col3\" >Industry / Vertical</th>        <th class=\"col_heading level0 col4\" >Sub-Vertical</th>        <th class=\"col_heading level0 col5\" >City / Location</th>        <th class=\"col_heading level0 col6\" >Investors' Name</th>        <th class=\"col_heading level0 col7\" >Investment Type</th>        <th class=\"col_heading level0 col8\" >Amount (In USD)</th>    </tr></thead><tbody>\n",
       "                <tr>\n",
       "                        <th id=\"T_cd978_level0_row0\" class=\"row_heading level0 row0\" >0</th>\n",
       "                        <td id=\"T_cd978_row0_col0\" class=\"data row0 col0\" >1</td>\n",
       "                        <td id=\"T_cd978_row0_col1\" class=\"data row0 col1\" >15/07/2020</td>\n",
       "                        <td id=\"T_cd978_row0_col2\" class=\"data row0 col2\" >Flipkart</td>\n",
       "                        <td id=\"T_cd978_row0_col3\" class=\"data row0 col3\" >E-commerce</td>\n",
       "                        <td id=\"T_cd978_row0_col4\" class=\"data row0 col4\" >E-commerce</td>\n",
       "                        <td id=\"T_cd978_row0_col5\" class=\"data row0 col5\" >Bangalore</td>\n",
       "                        <td id=\"T_cd978_row0_col6\" class=\"data row0 col6\" >Walmart Inc</td>\n",
       "                        <td id=\"T_cd978_row0_col7\" class=\"data row0 col7\" >M&A</td>\n",
       "                        <td id=\"T_cd978_row0_col8\" class=\"data row0 col8\" >1,200,000,000</td>\n",
       "            </tr>\n",
       "            <tr>\n",
       "                        <th id=\"T_cd978_level0_row1\" class=\"row_heading level0 row1\" >1</th>\n",
       "                        <td id=\"T_cd978_row1_col0\" class=\"data row1 col0\" >2</td>\n",
       "                        <td id=\"T_cd978_row1_col1\" class=\"data row1 col1\" >16/07/2020</td>\n",
       "                        <td id=\"T_cd978_row1_col2\" class=\"data row1 col2\" >Vedantu</td>\n",
       "                        <td id=\"T_cd978_row1_col3\" class=\"data row1 col3\" >EduTech</td>\n",
       "                        <td id=\"T_cd978_row1_col4\" class=\"data row1 col4\" >Online Tutoring</td>\n",
       "                        <td id=\"T_cd978_row1_col5\" class=\"data row1 col5\" >Bangalore</td>\n",
       "                        <td id=\"T_cd978_row1_col6\" class=\"data row1 col6\" >Coatue Management</td>\n",
       "                        <td id=\"T_cd978_row1_col7\" class=\"data row1 col7\" >Series D</td>\n",
       "                        <td id=\"T_cd978_row1_col8\" class=\"data row1 col8\" >100,000,000</td>\n",
       "            </tr>\n",
       "            <tr>\n",
       "                        <th id=\"T_cd978_level0_row2\" class=\"row_heading level0 row2\" >2</th>\n",
       "                        <td id=\"T_cd978_row2_col0\" class=\"data row2 col0\" >3</td>\n",
       "                        <td id=\"T_cd978_row2_col1\" class=\"data row2 col1\" >16/07/2020</td>\n",
       "                        <td id=\"T_cd978_row2_col2\" class=\"data row2 col2\" >Crio</td>\n",
       "                        <td id=\"T_cd978_row2_col3\" class=\"data row2 col3\" >EduTech</td>\n",
       "                        <td id=\"T_cd978_row2_col4\" class=\"data row2 col4\" >Learning Platform for Developers</td>\n",
       "                        <td id=\"T_cd978_row2_col5\" class=\"data row2 col5\" >Bangalore</td>\n",
       "                        <td id=\"T_cd978_row2_col6\" class=\"data row2 col6\" >021 Capital</td>\n",
       "                        <td id=\"T_cd978_row2_col7\" class=\"data row2 col7\" >pre-Series A</td>\n",
       "                        <td id=\"T_cd978_row2_col8\" class=\"data row2 col8\" >934,160</td>\n",
       "            </tr>\n",
       "            <tr>\n",
       "                        <th id=\"T_cd978_level0_row3\" class=\"row_heading level0 row3\" >3</th>\n",
       "                        <td id=\"T_cd978_row3_col0\" class=\"data row3 col0\" >4</td>\n",
       "                        <td id=\"T_cd978_row3_col1\" class=\"data row3 col1\" >14/07/2020</td>\n",
       "                        <td id=\"T_cd978_row3_col2\" class=\"data row3 col2\" >goDutch</td>\n",
       "                        <td id=\"T_cd978_row3_col3\" class=\"data row3 col3\" >FinTech</td>\n",
       "                        <td id=\"T_cd978_row3_col4\" class=\"data row3 col4\" >Group Payments</td>\n",
       "                        <td id=\"T_cd978_row3_col5\" class=\"data row3 col5\" >Mumbai</td>\n",
       "                        <td id=\"T_cd978_row3_col6\" class=\"data row3 col6\" >Matrix India,Y Combinator, Global Founders Capital, Soma Capital, and VentureSouq.</td>\n",
       "                        <td id=\"T_cd978_row3_col7\" class=\"data row3 col7\" >Seed</td>\n",
       "                        <td id=\"T_cd978_row3_col8\" class=\"data row3 col8\" >1,700,000</td>\n",
       "            </tr>\n",
       "            <tr>\n",
       "                        <th id=\"T_cd978_level0_row4\" class=\"row_heading level0 row4\" >4</th>\n",
       "                        <td id=\"T_cd978_row4_col0\" class=\"data row4 col0\" >5</td>\n",
       "                        <td id=\"T_cd978_row4_col1\" class=\"data row4 col1\" >13/07/2020</td>\n",
       "                        <td id=\"T_cd978_row4_col2\" class=\"data row4 col2\" >Mystifly</td>\n",
       "                        <td id=\"T_cd978_row4_col3\" class=\"data row4 col3\" >Airfare Marketplace</td>\n",
       "                        <td id=\"T_cd978_row4_col4\" class=\"data row4 col4\" >Ticketing, Airline Retailing, and Post-Ticketing Services</td>\n",
       "                        <td id=\"T_cd978_row4_col5\" class=\"data row4 col5\" >Singapore and Bangalore</td>\n",
       "                        <td id=\"T_cd978_row4_col6\" class=\"data row4 col6\" >Recruit Co. Ltd.</td>\n",
       "                        <td id=\"T_cd978_row4_col7\" class=\"data row4 col7\" >pre-Series B</td>\n",
       "                        <td id=\"T_cd978_row4_col8\" class=\"data row4 col8\" >3,300,000</td>\n",
       "            </tr>\n",
       "            <tr>\n",
       "                        <th id=\"T_cd978_level0_row5\" class=\"row_heading level0 row5\" >5</th>\n",
       "                        <td id=\"T_cd978_row5_col0\" class=\"data row5 col0\" >6</td>\n",
       "                        <td id=\"T_cd978_row5_col1\" class=\"data row5 col1\" >09/07/2020</td>\n",
       "                        <td id=\"T_cd978_row5_col2\" class=\"data row5 col2\" >JetSynthesys</td>\n",
       "                        <td id=\"T_cd978_row5_col3\" class=\"data row5 col3\" >Gaming and Entertainment</td>\n",
       "                        <td id=\"T_cd978_row5_col4\" class=\"data row5 col4\" >Gaming and Entertainment</td>\n",
       "                        <td id=\"T_cd978_row5_col5\" class=\"data row5 col5\" >Pune</td>\n",
       "                        <td id=\"T_cd978_row5_col6\" class=\"data row5 col6\" >Adar Poonawalla and Kris Gopalakrishnan.</td>\n",
       "                        <td id=\"T_cd978_row5_col7\" class=\"data row5 col7\" >Venture-Series Unknown</td>\n",
       "                        <td id=\"T_cd978_row5_col8\" class=\"data row5 col8\" >400,000</td>\n",
       "            </tr>\n",
       "            <tr>\n",
       "                        <th id=\"T_cd978_level0_row6\" class=\"row_heading level0 row6\" >6</th>\n",
       "                        <td id=\"T_cd978_row6_col0\" class=\"data row6 col0\" >7</td>\n",
       "                        <td id=\"T_cd978_row6_col1\" class=\"data row6 col1\" >10/07/2020</td>\n",
       "                        <td id=\"T_cd978_row6_col2\" class=\"data row6 col2\" >gigIndia</td>\n",
       "                        <td id=\"T_cd978_row6_col3\" class=\"data row6 col3\" >Marketplace</td>\n",
       "                        <td id=\"T_cd978_row6_col4\" class=\"data row6 col4\" >Crowd Sourcing, Freelance</td>\n",
       "                        <td id=\"T_cd978_row6_col5\" class=\"data row6 col5\" >Pune</td>\n",
       "                        <td id=\"T_cd978_row6_col6\" class=\"data row6 col6\" >Incubate Fund India and Beyond Next Ventures</td>\n",
       "                        <td id=\"T_cd978_row6_col7\" class=\"data row6 col7\" >pre-Series A</td>\n",
       "                        <td id=\"T_cd978_row6_col8\" class=\"data row6 col8\" >974,200</td>\n",
       "            </tr>\n",
       "            <tr>\n",
       "                        <th id=\"T_cd978_level0_row7\" class=\"row_heading level0 row7\" >7</th>\n",
       "                        <td id=\"T_cd978_row7_col0\" class=\"data row7 col0\" >8</td>\n",
       "                        <td id=\"T_cd978_row7_col1\" class=\"data row7 col1\" >15/07/2020</td>\n",
       "                        <td id=\"T_cd978_row7_col2\" class=\"data row7 col2\" >PumPumPum</td>\n",
       "                        <td id=\"T_cd978_row7_col3\" class=\"data row7 col3\" >Automotive Rental</td>\n",
       "                        <td id=\"T_cd978_row7_col4\" class=\"data row7 col4\" >Used Car-leasing platform</td>\n",
       "                        <td id=\"T_cd978_row7_col5\" class=\"data row7 col5\" >Gurgaon</td>\n",
       "                        <td id=\"T_cd978_row7_col6\" class=\"data row7 col6\" >Early Adapters Syndicate</td>\n",
       "                        <td id=\"T_cd978_row7_col7\" class=\"data row7 col7\" >Seed</td>\n",
       "                        <td id=\"T_cd978_row7_col8\" class=\"data row7 col8\" >292,800</td>\n",
       "            </tr>\n",
       "            <tr>\n",
       "                        <th id=\"T_cd978_level0_row8\" class=\"row_heading level0 row8\" >8</th>\n",
       "                        <td id=\"T_cd978_row8_col0\" class=\"data row8 col0\" >9</td>\n",
       "                        <td id=\"T_cd978_row8_col1\" class=\"data row8 col1\" >14/07/2020</td>\n",
       "                        <td id=\"T_cd978_row8_col2\" class=\"data row8 col2\" >FLYX</td>\n",
       "                        <td id=\"T_cd978_row8_col3\" class=\"data row8 col3\" >OTT Player</td>\n",
       "                        <td id=\"T_cd978_row8_col4\" class=\"data row8 col4\" >Streaming Social Network</td>\n",
       "                        <td id=\"T_cd978_row8_col5\" class=\"data row8 col5\" >New York and Delhi</td>\n",
       "                        <td id=\"T_cd978_row8_col6\" class=\"data row8 col6\" >Raj Mishra, founder of AIT Global Inc</td>\n",
       "                        <td id=\"T_cd978_row8_col7\" class=\"data row8 col7\" >pre-Seed</td>\n",
       "                        <td id=\"T_cd978_row8_col8\" class=\"data row8 col8\" >200,000</td>\n",
       "            </tr>\n",
       "            <tr>\n",
       "                        <th id=\"T_cd978_level0_row9\" class=\"row_heading level0 row9\" >9</th>\n",
       "                        <td id=\"T_cd978_row9_col0\" class=\"data row9 col0\" >10</td>\n",
       "                        <td id=\"T_cd978_row9_col1\" class=\"data row9 col1\" >13/07/2020</td>\n",
       "                        <td id=\"T_cd978_row9_col2\" class=\"data row9 col2\" >Open Appliances Pvt. Ltd.</td>\n",
       "                        <td id=\"T_cd978_row9_col3\" class=\"data row9 col3\" >Information Technology</td>\n",
       "                        <td id=\"T_cd978_row9_col4\" class=\"data row9 col4\" >Internet-of-Things Security Solutions</td>\n",
       "                        <td id=\"T_cd978_row9_col5\" class=\"data row9 col5\" >Bangalore</td>\n",
       "                        <td id=\"T_cd978_row9_col6\" class=\"data row9 col6\" >Unicorn India Ventures</td>\n",
       "                        <td id=\"T_cd978_row9_col7\" class=\"data row9 col7\" >Venture-Series Unknown</td>\n",
       "                        <td id=\"T_cd978_row9_col8\" class=\"data row9 col8\" >500,000</td>\n",
       "            </tr>\n",
       "    </tbody></table>"
      ],
      "text/plain": [
       "<pandas.io.formats.style.Styler at 0x14248dc09a0>"
      ]
     },
     "execution_count": 199,
     "metadata": {},
     "output_type": "execute_result"
    }
   ],
   "source": [
    "df1.style.set_table_attributes(\"style='display:inline'\").set_caption('JULY, 2020')"
   ]
  },
  {
   "cell_type": "code",
   "execution_count": 200,
   "id": "c1eaae4f",
   "metadata": {},
   "outputs": [
    {
     "data": {
      "text/html": [
       "<style  type=\"text/css\" >\n",
       "</style><table id=\"T_73424_\" style='display:inline'><caption>AUGUST, 2020</caption><thead>    <tr>        <th class=\"blank level0\" ></th>        <th class=\"col_heading level0 col0\" >Sr. No.</th>        <th class=\"col_heading level0 col1\" >Date (dd/mm/yyyy)</th>        <th class=\"col_heading level0 col2\" >Startup Name</th>        <th class=\"col_heading level0 col3\" >Industry / Vertical</th>        <th class=\"col_heading level0 col4\" >Sub-Vertical</th>        <th class=\"col_heading level0 col5\" >City / Location</th>        <th class=\"col_heading level0 col6\" >Investors' Name</th>        <th class=\"col_heading level0 col7\" >Investment Type</th>        <th class=\"col_heading level0 col8\" >Amount (In USD)</th>    </tr></thead><tbody>\n",
       "                <tr>\n",
       "                        <th id=\"T_73424_level0_row0\" class=\"row_heading level0 row0\" >0</th>\n",
       "                        <td id=\"T_73424_row0_col0\" class=\"data row0 col0\" >1</td>\n",
       "                        <td id=\"T_73424_row0_col1\" class=\"data row0 col1\" >15/08/2020</td>\n",
       "                        <td id=\"T_73424_row0_col2\" class=\"data row0 col2\" >Practo</td>\n",
       "                        <td id=\"T_73424_row0_col3\" class=\"data row0 col3\" >HealthTech</td>\n",
       "                        <td id=\"T_73424_row0_col4\" class=\"data row0 col4\" >Health care and Wellness</td>\n",
       "                        <td id=\"T_73424_row0_col5\" class=\"data row0 col5\" >Bangalore</td>\n",
       "                        <td id=\"T_73424_row0_col6\" class=\"data row0 col6\" >A1A Company</td>\n",
       "                        <td id=\"T_73424_row0_col7\" class=\"data row0 col7\" >Series F</td>\n",
       "                        <td id=\"T_73424_row0_col8\" class=\"data row0 col8\" >32,000,000</td>\n",
       "            </tr>\n",
       "            <tr>\n",
       "                        <th id=\"T_73424_level0_row1\" class=\"row_heading level0 row1\" >1</th>\n",
       "                        <td id=\"T_73424_row1_col0\" class=\"data row1 col0\" >2</td>\n",
       "                        <td id=\"T_73424_row1_col1\" class=\"data row1 col1\" >13/08/2020</td>\n",
       "                        <td id=\"T_73424_row1_col2\" class=\"data row1 col2\" >Medlife</td>\n",
       "                        <td id=\"T_73424_row1_col3\" class=\"data row1 col3\" >E-commerce</td>\n",
       "                        <td id=\"T_73424_row1_col4\" class=\"data row1 col4\" >Online Pharmacy</td>\n",
       "                        <td id=\"T_73424_row1_col5\" class=\"data row1 col5\" >Bangalore</td>\n",
       "                        <td id=\"T_73424_row1_col6\" class=\"data row1 col6\" >Prasid Uno Family Trust and SC Credit Fund</td>\n",
       "                        <td id=\"T_73424_row1_col7\" class=\"data row1 col7\" ></td>\n",
       "                        <td id=\"T_73424_row1_col8\" class=\"data row1 col8\" >23,000,000</td>\n",
       "            </tr>\n",
       "            <tr>\n",
       "                        <th id=\"T_73424_level0_row2\" class=\"row_heading level0 row2\" >2</th>\n",
       "                        <td id=\"T_73424_row2_col0\" class=\"data row2 col0\" >3</td>\n",
       "                        <td id=\"T_73424_row2_col1\" class=\"data row2 col1\" >13/08/2020</td>\n",
       "                        <td id=\"T_73424_row2_col2\" class=\"data row2 col2\" >HungerBox</td>\n",
       "                        <td id=\"T_73424_row2_col3\" class=\"data row2 col3\" >FoodTech</td>\n",
       "                        <td id=\"T_73424_row2_col4\" class=\"data row2 col4\" >Online Food Delivery Service</td>\n",
       "                        <td id=\"T_73424_row2_col5\" class=\"data row2 col5\" >Bangalore</td>\n",
       "                        <td id=\"T_73424_row2_col6\" class=\"data row2 col6\" >One97, Sabre Partners Trust, Pratithi Investment Trust, and Srihari Kumar</td>\n",
       "                        <td id=\"T_73424_row2_col7\" class=\"data row2 col7\" >Series D1</td>\n",
       "                        <td id=\"T_73424_row2_col8\" class=\"data row2 col8\" >1,560,000</td>\n",
       "            </tr>\n",
       "            <tr>\n",
       "                        <th id=\"T_73424_level0_row3\" class=\"row_heading level0 row3\" >3</th>\n",
       "                        <td id=\"T_73424_row3_col0\" class=\"data row3 col0\" >4</td>\n",
       "                        <td id=\"T_73424_row3_col1\" class=\"data row3 col1\" >04/08/2020</td>\n",
       "                        <td id=\"T_73424_row3_col2\" class=\"data row3 col2\" >Dunzo</td>\n",
       "                        <td id=\"T_73424_row3_col3\" class=\"data row3 col3\" >Hyper-local Logistics</td>\n",
       "                        <td id=\"T_73424_row3_col4\" class=\"data row3 col4\" >Online Delivery Services</td>\n",
       "                        <td id=\"T_73424_row3_col5\" class=\"data row3 col5\" >Bangalore</td>\n",
       "                        <td id=\"T_73424_row3_col6\" class=\"data row3 col6\" >Existing Backers</td>\n",
       "                        <td id=\"T_73424_row3_col7\" class=\"data row3 col7\" >In Progress</td>\n",
       "                        <td id=\"T_73424_row3_col8\" class=\"data row3 col8\" >30,000,000</td>\n",
       "            </tr>\n",
       "            <tr>\n",
       "                        <th id=\"T_73424_level0_row4\" class=\"row_heading level0 row4\" >4</th>\n",
       "                        <td id=\"T_73424_row4_col0\" class=\"data row4 col0\" >5</td>\n",
       "                        <td id=\"T_73424_row4_col1\" class=\"data row4 col1\" >11/08/2020</td>\n",
       "                        <td id=\"T_73424_row4_col2\" class=\"data row4 col2\" >Terra.do</td>\n",
       "                        <td id=\"T_73424_row4_col3\" class=\"data row4 col3\" >EduTech</td>\n",
       "                        <td id=\"T_73424_row4_col4\" class=\"data row4 col4\" >Online Climate School, E-learning</td>\n",
       "                        <td id=\"T_73424_row4_col5\" class=\"data row4 col5\" >Stanford, California,</td>\n",
       "                        <td id=\"T_73424_row4_col6\" class=\"data row4 col6\" >Stanford Angels and Entrepreneurs (India), BEENEXT Emerging Asia, Rainmatter Capital</td>\n",
       "                        <td id=\"T_73424_row4_col7\" class=\"data row4 col7\" >Seed</td>\n",
       "                        <td id=\"T_73424_row4_col8\" class=\"data row4 col8\" >1,400,000</td>\n",
       "            </tr>\n",
       "            <tr>\n",
       "                        <th id=\"T_73424_level0_row5\" class=\"row_heading level0 row5\" >5</th>\n",
       "                        <td id=\"T_73424_row5_col0\" class=\"data row5 col0\" >6</td>\n",
       "                        <td id=\"T_73424_row5_col1\" class=\"data row5 col1\" >12/08/2020</td>\n",
       "                        <td id=\"T_73424_row5_col2\" class=\"data row5 col2\" >Classplus</td>\n",
       "                        <td id=\"T_73424_row5_col3\" class=\"data row5 col3\" >EduTech</td>\n",
       "                        <td id=\"T_73424_row5_col4\" class=\"data row5 col4\" >E-learning, Online Tutoring</td>\n",
       "                        <td id=\"T_73424_row5_col5\" class=\"data row5 col5\" >Noida</td>\n",
       "                        <td id=\"T_73424_row5_col6\" class=\"data row5 col6\" >Falcon Edge</td>\n",
       "                        <td id=\"T_73424_row5_col7\" class=\"data row5 col7\" >In Progress</td>\n",
       "                        <td id=\"T_73424_row5_col8\" class=\"data row5 col8\" >upto 15,000,000</td>\n",
       "            </tr>\n",
       "            <tr>\n",
       "                        <th id=\"T_73424_level0_row6\" class=\"row_heading level0 row6\" >6</th>\n",
       "                        <td id=\"T_73424_row6_col0\" class=\"data row6 col0\" >7</td>\n",
       "                        <td id=\"T_73424_row6_col1\" class=\"data row6 col1\" >14/08/2020</td>\n",
       "                        <td id=\"T_73424_row6_col2\" class=\"data row6 col2\" >Niyo</td>\n",
       "                        <td id=\"T_73424_row6_col3\" class=\"data row6 col3\" >FinTech</td>\n",
       "                        <td id=\"T_73424_row6_col4\" class=\"data row6 col4\" >Financial Services</td>\n",
       "                        <td id=\"T_73424_row6_col5\" class=\"data row6 col5\" >Bangalore</td>\n",
       "                        <td id=\"T_73424_row6_col6\" class=\"data row6 col6\" >Niyo Solutions Inc.</td>\n",
       "                        <td id=\"T_73424_row6_col7\" class=\"data row6 col7\" ></td>\n",
       "                        <td id=\"T_73424_row6_col8\" class=\"data row6 col8\" >6,000,000</td>\n",
       "            </tr>\n",
       "            <tr>\n",
       "                        <th id=\"T_73424_level0_row7\" class=\"row_heading level0 row7\" >7</th>\n",
       "                        <td id=\"T_73424_row7_col0\" class=\"data row7 col0\" >8</td>\n",
       "                        <td id=\"T_73424_row7_col1\" class=\"data row7 col1\" >10/08/2020</td>\n",
       "                        <td id=\"T_73424_row7_col2\" class=\"data row7 col2\" >ZestMoney</td>\n",
       "                        <td id=\"T_73424_row7_col3\" class=\"data row7 col3\" >FinTech</td>\n",
       "                        <td id=\"T_73424_row7_col4\" class=\"data row7 col4\" >Financial Services</td>\n",
       "                        <td id=\"T_73424_row7_col5\" class=\"data row7 col5\" >Bangalore</td>\n",
       "                        <td id=\"T_73424_row7_col6\" class=\"data row7 col6\" >Primrose Hills Ventures</td>\n",
       "                        <td id=\"T_73424_row7_col7\" class=\"data row7 col7\" ></td>\n",
       "                        <td id=\"T_73424_row7_col8\" class=\"data row7 col8\" >10,670,000</td>\n",
       "            </tr>\n",
       "            <tr>\n",
       "                        <th id=\"T_73424_level0_row8\" class=\"row_heading level0 row8\" >8</th>\n",
       "                        <td id=\"T_73424_row8_col0\" class=\"data row8 col0\" >9</td>\n",
       "                        <td id=\"T_73424_row8_col1\" class=\"data row8 col1\" >07/08/2020</td>\n",
       "                        <td id=\"T_73424_row8_col2\" class=\"data row8 col2\" >FreshToHome</td>\n",
       "                        <td id=\"T_73424_row8_col3\" class=\"data row8 col3\" >E-commerce</td>\n",
       "                        <td id=\"T_73424_row8_col4\" class=\"data row8 col4\" >Food Delivery</td>\n",
       "                        <td id=\"T_73424_row8_col5\" class=\"data row8 col5\" >Bangalore</td>\n",
       "                        <td id=\"T_73424_row8_col6\" class=\"data row8 col6\" >Ascent Capital</td>\n",
       "                        <td id=\"T_73424_row8_col7\" class=\"data row8 col7\" >Venture</td>\n",
       "                        <td id=\"T_73424_row8_col8\" class=\"data row8 col8\" >16,200,000</td>\n",
       "            </tr>\n",
       "            <tr>\n",
       "                        <th id=\"T_73424_level0_row9\" class=\"row_heading level0 row9\" >9</th>\n",
       "                        <td id=\"T_73424_row9_col0\" class=\"data row9 col0\" >10</td>\n",
       "                        <td id=\"T_73424_row9_col1\" class=\"data row9 col1\" >13/08/2020</td>\n",
       "                        <td id=\"T_73424_row9_col2\" class=\"data row9 col2\" >Eduvanz</td>\n",
       "                        <td id=\"T_73424_row9_col3\" class=\"data row9 col3\" >FinTech</td>\n",
       "                        <td id=\"T_73424_row9_col4\" class=\"data row9 col4\" >Financial Services</td>\n",
       "                        <td id=\"T_73424_row9_col5\" class=\"data row9 col5\" >Mumbai</td>\n",
       "                        <td id=\"T_73424_row9_col6\" class=\"data row9 col6\" >Sequoia India, Unitus</td>\n",
       "                        <td id=\"T_73424_row9_col7\" class=\"data row9 col7\" >Series A</td>\n",
       "                        <td id=\"T_73424_row9_col8\" class=\"data row9 col8\" >5,000,000</td>\n",
       "            </tr>\n",
       "    </tbody></table>"
      ],
      "text/plain": [
       "<pandas.io.formats.style.Styler at 0x14248d976d0>"
      ]
     },
     "execution_count": 200,
     "metadata": {},
     "output_type": "execute_result"
    }
   ],
   "source": [
    "df2.style.set_table_attributes(\"style='display:inline'\").set_caption('AUGUST, 2020')"
   ]
  },
  {
   "cell_type": "code",
   "execution_count": 201,
   "id": "3c239266",
   "metadata": {},
   "outputs": [
    {
     "data": {
      "text/html": [
       "<style  type=\"text/css\" >\n",
       "</style><table id=\"T_7af24_\" style='display:inline'><caption>SEPTEMBER, 2020</caption><thead>    <tr>        <th class=\"blank level0\" ></th>        <th class=\"col_heading level0 col0\" >Sr. No.</th>        <th class=\"col_heading level0 col1\" >Date (dd/mm/yyyy)</th>        <th class=\"col_heading level0 col2\" >Startup Name</th>        <th class=\"col_heading level0 col3\" >Industry / Vertical</th>        <th class=\"col_heading level0 col4\" >Sub-Vertical</th>        <th class=\"col_heading level0 col5\" >City / Location</th>        <th class=\"col_heading level0 col6\" >Investors' Name</th>        <th class=\"col_heading level0 col7\" >Investment Type</th>        <th class=\"col_heading level0 col8\" >Amount (In USD)</th>    </tr></thead><tbody>\n",
       "                <tr>\n",
       "                        <th id=\"T_7af24_level0_row0\" class=\"row_heading level0 row0\" >0</th>\n",
       "                        <td id=\"T_7af24_row0_col0\" class=\"data row0 col0\" >1</td>\n",
       "                        <td id=\"T_7af24_row0_col1\" class=\"data row0 col1\" >08/09/2020</td>\n",
       "                        <td id=\"T_7af24_row0_col2\" class=\"data row0 col2\" >Byju’s</td>\n",
       "                        <td id=\"T_7af24_row0_col3\" class=\"data row0 col3\" >EduTech</td>\n",
       "                        <td id=\"T_7af24_row0_col4\" class=\"data row0 col4\" >Online Tutoring</td>\n",
       "                        <td id=\"T_7af24_row0_col5\" class=\"data row0 col5\" >Bangalore</td>\n",
       "                        <td id=\"T_7af24_row0_col6\" class=\"data row0 col6\" >Silver Lake, Tiger Global, General Atlantic and Owl Ventures</td>\n",
       "                        <td id=\"T_7af24_row0_col7\" class=\"data row0 col7\" >Private Equity</td>\n",
       "                        <td id=\"T_7af24_row0_col8\" class=\"data row0 col8\" >500,000,000</td>\n",
       "            </tr>\n",
       "            <tr>\n",
       "                        <th id=\"T_7af24_level0_row1\" class=\"row_heading level0 row1\" >1</th>\n",
       "                        <td id=\"T_7af24_row1_col0\" class=\"data row1 col0\" >2</td>\n",
       "                        <td id=\"T_7af24_row1_col1\" class=\"data row1 col1\" >12/09/2020</td>\n",
       "                        <td id=\"T_7af24_row1_col2\" class=\"data row1 col2\" >mCaffeine</td>\n",
       "                        <td id=\"T_7af24_row1_col3\" class=\"data row1 col3\" >Personal Care</td>\n",
       "                        <td id=\"T_7af24_row1_col4\" class=\"data row1 col4\" >Skincare & Haircare</td>\n",
       "                        <td id=\"T_7af24_row1_col5\" class=\"data row1 col5\" >Mumbai</td>\n",
       "                        <td id=\"T_7af24_row1_col6\" class=\"data row1 col6\" >Amicus Capital Private Equity I LLP, Amicus Capital Partners India Fund I and RP-SG Venture Fund 1</td>\n",
       "                        <td id=\"T_7af24_row1_col7\" class=\"data row1 col7\" >Series B</td>\n",
       "                        <td id=\"T_7af24_row1_col8\" class=\"data row1 col8\" >3,000,000</td>\n",
       "            </tr>\n",
       "            <tr>\n",
       "                        <th id=\"T_7af24_level0_row2\" class=\"row_heading level0 row2\" >2</th>\n",
       "                        <td id=\"T_7af24_row2_col0\" class=\"data row2 col0\" >3</td>\n",
       "                        <td id=\"T_7af24_row2_col1\" class=\"data row2 col1\" >09/09/2020</td>\n",
       "                        <td id=\"T_7af24_row2_col2\" class=\"data row2 col2\" >Qshala</td>\n",
       "                        <td id=\"T_7af24_row2_col3\" class=\"data row2 col3\" >EduTech</td>\n",
       "                        <td id=\"T_7af24_row2_col4\" class=\"data row2 col4\" >Online Curiosity Platform for Kids</td>\n",
       "                        <td id=\"T_7af24_row2_col5\" class=\"data row2 col5\" >Bangalore</td>\n",
       "                        <td id=\"T_7af24_row2_col6\" class=\"data row2 col6\" >Rainmatter Capital</td>\n",
       "                        <td id=\"T_7af24_row2_col7\" class=\"data row2 col7\" >Angel</td>\n",
       "                        <td id=\"T_7af24_row2_col8\" class=\"data row2 col8\" >370,000</td>\n",
       "            </tr>\n",
       "            <tr>\n",
       "                        <th id=\"T_7af24_level0_row3\" class=\"row_heading level0 row3\" >3</th>\n",
       "                        <td id=\"T_7af24_row3_col0\" class=\"data row3 col0\" >4</td>\n",
       "                        <td id=\"T_7af24_row3_col1\" class=\"data row3 col1\" >02/09/2020</td>\n",
       "                        <td id=\"T_7af24_row3_col2\" class=\"data row3 col2\" >Winzo</td>\n",
       "                        <td id=\"T_7af24_row3_col3\" class=\"data row3 col3\" >Online Gaming</td>\n",
       "                        <td id=\"T_7af24_row3_col4\" class=\"data row3 col4\" >Online Gaming</td>\n",
       "                        <td id=\"T_7af24_row3_col5\" class=\"data row3 col5\" >New Delhi</td>\n",
       "                        <td id=\"T_7af24_row3_col6\" class=\"data row3 col6\" >Kalaari Capital Partners, IndigoEdge Management Consultancy</td>\n",
       "                        <td id=\"T_7af24_row3_col7\" class=\"data row3 col7\" >Series B</td>\n",
       "                        <td id=\"T_7af24_row3_col8\" class=\"data row3 col8\" >15,500,000</td>\n",
       "            </tr>\n",
       "            <tr>\n",
       "                        <th id=\"T_7af24_level0_row4\" class=\"row_heading level0 row4\" >4</th>\n",
       "                        <td id=\"T_7af24_row4_col0\" class=\"data row4 col0\" >5</td>\n",
       "                        <td id=\"T_7af24_row4_col1\" class=\"data row4 col1\" >09/09/2020</td>\n",
       "                        <td id=\"T_7af24_row4_col2\" class=\"data row4 col2\" >Hippo Video</td>\n",
       "                        <td id=\"T_7af24_row4_col3\" class=\"data row4 col3\" >Video Customer Experience(CX) Platform</td>\n",
       "                        <td id=\"T_7af24_row4_col4\" class=\"data row4 col4\" >Video Customer Experience(CX) Platform</td>\n",
       "                        <td id=\"T_7af24_row4_col5\" class=\"data row4 col5\" >Newark, Delaware, United States of Amercia</td>\n",
       "                        <td id=\"T_7af24_row4_col6\" class=\"data row4 col6\" >Alpha Wave Incubation, Exfinity Venture Partners and existing backers.</td>\n",
       "                        <td id=\"T_7af24_row4_col7\" class=\"data row4 col7\" >Series A</td>\n",
       "                        <td id=\"T_7af24_row4_col8\" class=\"data row4 col8\" >4,500,000</td>\n",
       "            </tr>\n",
       "            <tr>\n",
       "                        <th id=\"T_7af24_level0_row5\" class=\"row_heading level0 row5\" >5</th>\n",
       "                        <td id=\"T_7af24_row5_col0\" class=\"data row5 col0\" >6</td>\n",
       "                        <td id=\"T_7af24_row5_col1\" class=\"data row5 col1\" >07/09/2020</td>\n",
       "                        <td id=\"T_7af24_row5_col2\" class=\"data row5 col2\" >Melorra</td>\n",
       "                        <td id=\"T_7af24_row5_col3\" class=\"data row5 col3\" >E-commerce</td>\n",
       "                        <td id=\"T_7af24_row5_col4\" class=\"data row5 col4\" >Online Jewelry Store</td>\n",
       "                        <td id=\"T_7af24_row5_col5\" class=\"data row5 col5\" >Bangalore</td>\n",
       "                        <td id=\"T_7af24_row5_col6\" class=\"data row5 col6\" >Shadow Holdings, Lightbox.</td>\n",
       "                        <td id=\"T_7af24_row5_col7\" class=\"data row5 col7\" >Debt Financing</td>\n",
       "                        <td id=\"T_7af24_row5_col8\" class=\"data row5 col8\" >upto 8,900,000</td>\n",
       "            </tr>\n",
       "            <tr>\n",
       "                        <th id=\"T_7af24_level0_row6\" class=\"row_heading level0 row6\" >6</th>\n",
       "                        <td id=\"T_7af24_row6_col0\" class=\"data row6 col0\" >7</td>\n",
       "                        <td id=\"T_7af24_row6_col1\" class=\"data row6 col1\" >07/09/2020</td>\n",
       "                        <td id=\"T_7af24_row6_col2\" class=\"data row6 col2\" >1mg</td>\n",
       "                        <td id=\"T_7af24_row6_col3\" class=\"data row6 col3\" >E-commerce</td>\n",
       "                        <td id=\"T_7af24_row6_col4\" class=\"data row6 col4\" >Online Pharmacy</td>\n",
       "                        <td id=\"T_7af24_row6_col5\" class=\"data row6 col5\" >Gurgaon</td>\n",
       "                        <td id=\"T_7af24_row6_col6\" class=\"data row6 col6\" >Gaja Capital, Tata Capital, Partners Group</td>\n",
       "                        <td id=\"T_7af24_row6_col7\" class=\"data row6 col7\" >In Progress</td>\n",
       "                        <td id=\"T_7af24_row6_col8\" class=\"data row6 col8\" >100,000,000</td>\n",
       "            </tr>\n",
       "            <tr>\n",
       "                        <th id=\"T_7af24_level0_row7\" class=\"row_heading level0 row7\" >7</th>\n",
       "                        <td id=\"T_7af24_row7_col0\" class=\"data row7 col0\" >8</td>\n",
       "                        <td id=\"T_7af24_row7_col1\" class=\"data row7 col1\" >31/08/2020</td>\n",
       "                        <td id=\"T_7af24_row7_col2\" class=\"data row7 col2\" >mfine</td>\n",
       "                        <td id=\"T_7af24_row7_col3\" class=\"data row7 col3\" >HealthTech</td>\n",
       "                        <td id=\"T_7af24_row7_col4\" class=\"data row7 col4\" >On-Demand Healthcare Services</td>\n",
       "                        <td id=\"T_7af24_row7_col5\" class=\"data row7 col5\" >Bangalore</td>\n",
       "                        <td id=\"T_7af24_row7_col6\" class=\"data row7 col6\" >Caretech Pte Inc</td>\n",
       "                        <td id=\"T_7af24_row7_col7\" class=\"data row7 col7\" >Series B</td>\n",
       "                        <td id=\"T_7af24_row7_col8\" class=\"data row7 col8\" >5,400,000</td>\n",
       "            </tr>\n",
       "            <tr>\n",
       "                        <th id=\"T_7af24_level0_row8\" class=\"row_heading level0 row8\" >8</th>\n",
       "                        <td id=\"T_7af24_row8_col0\" class=\"data row8 col0\" >9</td>\n",
       "                        <td id=\"T_7af24_row8_col1\" class=\"data row8 col1\" >31/08/2020</td>\n",
       "                        <td id=\"T_7af24_row8_col2\" class=\"data row8 col2\" >Apna</td>\n",
       "                        <td id=\"T_7af24_row8_col3\" class=\"data row8 col3\" >Human Resources</td>\n",
       "                        <td id=\"T_7af24_row8_col4\" class=\"data row8 col4\" >Recruitment Platform</td>\n",
       "                        <td id=\"T_7af24_row8_col5\" class=\"data row8 col5\" >Bangalore</td>\n",
       "                        <td id=\"T_7af24_row8_col6\" class=\"data row8 col6\" >Lightspeed India and Sequoia Capital India</td>\n",
       "                        <td id=\"T_7af24_row8_col7\" class=\"data row8 col7\" >Series A</td>\n",
       "                        <td id=\"T_7af24_row8_col8\" class=\"data row8 col8\" >8,000,000</td>\n",
       "            </tr>\n",
       "            <tr>\n",
       "                        <th id=\"T_7af24_level0_row9\" class=\"row_heading level0 row9\" >9</th>\n",
       "                        <td id=\"T_7af24_row9_col0\" class=\"data row9 col0\" >10</td>\n",
       "                        <td id=\"T_7af24_row9_col1\" class=\"data row9 col1\" >03/09/2020</td>\n",
       "                        <td id=\"T_7af24_row9_col2\" class=\"data row9 col2\" >Railofy</td>\n",
       "                        <td id=\"T_7af24_row9_col3\" class=\"data row9 col3\" >Transportation</td>\n",
       "                        <td id=\"T_7af24_row9_col4\" class=\"data row9 col4\" >WL & RAC protection platform</td>\n",
       "                        <td id=\"T_7af24_row9_col5\" class=\"data row9 col5\" >Mumbai</td>\n",
       "                        <td id=\"T_7af24_row9_col6\" class=\"data row9 col6\" >Chiratae Ventures</td>\n",
       "                        <td id=\"T_7af24_row9_col7\" class=\"data row9 col7\" >Seed</td>\n",
       "                        <td id=\"T_7af24_row9_col8\" class=\"data row9 col8\" >950,000</td>\n",
       "            </tr>\n",
       "    </tbody></table>"
      ],
      "text/plain": [
       "<pandas.io.formats.style.Styler at 0x14248d65520>"
      ]
     },
     "execution_count": 201,
     "metadata": {},
     "output_type": "execute_result"
    }
   ],
   "source": [
    "df3.style.set_table_attributes(\"style='display:inline'\").set_caption('SEPTEMBER, 2020')"
   ]
  },
  {
   "cell_type": "markdown",
   "id": "95a1a9a3",
   "metadata": {},
   "source": [
    "These are the funding deals for second quarter (i.e. July 20 –\n",
    "September 20) "
   ]
  },
  {
   "cell_type": "markdown",
   "id": "01fd6ab4",
   "metadata": {},
   "source": [
    "df3.to_csv(\"df3.csv\")\n"
   ]
  },
  {
   "cell_type": "code",
   "execution_count": null,
   "id": "1ed08179",
   "metadata": {},
   "outputs": [],
   "source": []
  },
  {
   "cell_type": "code",
   "execution_count": null,
   "id": "9f151de6",
   "metadata": {},
   "outputs": [],
   "source": []
  },
  {
   "cell_type": "code",
   "execution_count": null,
   "id": "c36cafa2",
   "metadata": {},
   "outputs": [],
   "source": []
  },
  {
   "cell_type": "code",
   "execution_count": null,
   "id": "037e7c0e",
   "metadata": {},
   "outputs": [],
   "source": []
  },
  {
   "cell_type": "code",
   "execution_count": null,
   "id": "1f12c437",
   "metadata": {},
   "outputs": [],
   "source": []
  },
  {
   "cell_type": "code",
   "execution_count": null,
   "id": "9a7e7e44",
   "metadata": {},
   "outputs": [],
   "source": []
  },
  {
   "cell_type": "code",
   "execution_count": null,
   "id": "9e6671a8",
   "metadata": {},
   "outputs": [],
   "source": []
  },
  {
   "cell_type": "code",
   "execution_count": null,
   "id": "0a90f586",
   "metadata": {},
   "outputs": [],
   "source": []
  }
 ],
 "metadata": {
  "kernelspec": {
   "display_name": "Python 3",
   "language": "python",
   "name": "python3"
  },
  "language_info": {
   "codemirror_mode": {
    "name": "ipython",
    "version": 3
   },
   "file_extension": ".py",
   "mimetype": "text/x-python",
   "name": "python",
   "nbconvert_exporter": "python",
   "pygments_lexer": "ipython3",
   "version": "3.8.8"
  }
 },
 "nbformat": 4,
 "nbformat_minor": 5
}
