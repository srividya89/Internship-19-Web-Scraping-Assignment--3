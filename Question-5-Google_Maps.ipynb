{
 "cells": [
  {
   "cell_type": "code",
   "execution_count": 19,
   "id": "9863a04c",
   "metadata": {},
   "outputs": [
    {
     "name": "stdout",
     "output_type": "stream",
     "text": [
      "Requirement already satisfied: selenium in c:\\users\\srividya\\anaconda3\\lib\\site-packages (4.0.0b4)\n",
      "Requirement already satisfied: trio~=0.17 in c:\\users\\srividya\\anaconda3\\lib\\site-packages (from selenium) (0.19.0)\n",
      "Requirement already satisfied: urllib3[secure]~=1.26 in c:\\users\\srividya\\anaconda3\\lib\\site-packages (from selenium) (1.26.4)\n",
      "Requirement already satisfied: trio-websocket~=0.9 in c:\\users\\srividya\\anaconda3\\lib\\site-packages (from selenium) (0.9.2)\n",
      "Requirement already satisfied: sortedcontainers in c:\\users\\srividya\\anaconda3\\lib\\site-packages (from trio~=0.17->selenium) (2.3.0)\n",
      "Requirement already satisfied: cffi>=1.14 in c:\\users\\srividya\\anaconda3\\lib\\site-packages (from trio~=0.17->selenium) (1.14.5)\n",
      "Requirement already satisfied: sniffio in c:\\users\\srividya\\anaconda3\\lib\\site-packages (from trio~=0.17->selenium) (1.2.0)\n",
      "Requirement already satisfied: async-generator>=1.9 in c:\\users\\srividya\\anaconda3\\lib\\site-packages (from trio~=0.17->selenium) (1.10)\n",
      "Requirement already satisfied: idna in c:\\users\\srividya\\anaconda3\\lib\\site-packages (from trio~=0.17->selenium) (2.10)\n",
      "Requirement already satisfied: outcome in c:\\users\\srividya\\anaconda3\\lib\\site-packages (from trio~=0.17->selenium) (1.1.0)\n",
      "Requirement already satisfied: attrs>=19.2.0 in c:\\users\\srividya\\anaconda3\\lib\\site-packages (from trio~=0.17->selenium) (20.3.0)\n",
      "Requirement already satisfied: pycparser in c:\\users\\srividya\\anaconda3\\lib\\site-packages (from cffi>=1.14->trio~=0.17->selenium) (2.20)\n",
      "Requirement already satisfied: wsproto>=0.14 in c:\\users\\srividya\\anaconda3\\lib\\site-packages (from trio-websocket~=0.9->selenium) (1.0.0)\n",
      "Requirement already satisfied: certifi in c:\\users\\srividya\\anaconda3\\lib\\site-packages (from urllib3[secure]~=1.26->selenium) (2020.12.5)\n",
      "Requirement already satisfied: cryptography>=1.3.4 in c:\\users\\srividya\\anaconda3\\lib\\site-packages (from urllib3[secure]~=1.26->selenium) (3.4.7)\n",
      "Requirement already satisfied: pyOpenSSL>=0.14 in c:\\users\\srividya\\anaconda3\\lib\\site-packages (from urllib3[secure]~=1.26->selenium) (20.0.1)\n",
      "Requirement already satisfied: six>=1.5.2 in c:\\users\\srividya\\anaconda3\\lib\\site-packages (from pyOpenSSL>=0.14->urllib3[secure]~=1.26->selenium) (1.15.0)\n",
      "Requirement already satisfied: h11<1,>=0.9.0 in c:\\users\\srividya\\anaconda3\\lib\\site-packages (from wsproto>=0.14->trio-websocket~=0.9->selenium) (0.12.0)\n"
     ]
    }
   ],
   "source": [
    "!pip install selenium\n",
    "import time\n",
    "import warnings\n",
    "warnings.filterwarnings('ignore')\n",
    "import pandas as pd"
   ]
  },
  {
   "cell_type": "code",
   "execution_count": 20,
   "id": "800b7d03",
   "metadata": {},
   "outputs": [],
   "source": [
    "import selenium\n",
    "import pandas as pd\n",
    "from selenium import webdriver \n",
    "from selenium.common.exceptions import  StaleElementReferenceException\n",
    "from selenium.common.exceptions import  NoSuchElementException,ElementClickInterceptedException \n",
    "\n",
    "from selenium.webdriver.support.ui import WebDriverWait\n",
    "from selenium.webdriver.support import expected_conditions as EC\n",
    "from selenium.webdriver.common.by import By\n"
   ]
  },
  {
   "cell_type": "code",
   "execution_count": 21,
   "id": "9e2af411",
   "metadata": {},
   "outputs": [],
   "source": [
    "driver=webdriver.Chrome(r\"C:\\Users\\Srividya\\Downloads\\chromedriver_win32\\chromedriver.exe\")"
   ]
  },
  {
   "cell_type": "code",
   "execution_count": 22,
   "id": "c588aa93",
   "metadata": {},
   "outputs": [],
   "source": [
    "url=\"https://www.google.com/maps/@13.0216306,80.1763358,15z\"\n",
    "driver.get(url)"
   ]
  },
  {
   "cell_type": "code",
   "execution_count": 23,
   "id": "22aa7a37",
   "metadata": {},
   "outputs": [
    {
     "data": {
      "text/plain": [
       "<selenium.webdriver.remote.webelement.WebElement (session=\"0bdbe9070dc61882d2b8cc6f0550b015\", element=\"d94477e7-a2cd-4bc7-a975-f16bb4123f33\")>"
      ]
     },
     "execution_count": 23,
     "metadata": {},
     "output_type": "execute_result"
    }
   ],
   "source": [
    "search_bar=driver.find_element_by_xpath(\"//input[@autofocus='autofocus']\")\n",
    "search_bar"
   ]
  },
  {
   "cell_type": "code",
   "execution_count": 24,
   "id": "63699774",
   "metadata": {},
   "outputs": [],
   "source": [
    "search_bar.send_keys(\"Chennai\")"
   ]
  },
  {
   "cell_type": "code",
   "execution_count": 25,
   "id": "ba26f022",
   "metadata": {},
   "outputs": [],
   "source": [
    "search_btn=driver.find_element_by_xpath(\"//button[@guidedhelpid='searchbutton']\")"
   ]
  },
  {
   "cell_type": "code",
   "execution_count": 26,
   "id": "78e7f456",
   "metadata": {},
   "outputs": [],
   "source": [
    "try:  \n",
    "    search_btn.click()\n",
    "except StaleElementReferenceException as e:\n",
    "    search_btn.click()"
   ]
  },
  {
   "cell_type": "code",
   "execution_count": 27,
   "id": "c175e4cd",
   "metadata": {},
   "outputs": [],
   "source": [
    "time.sleep(1)"
   ]
  },
  {
   "cell_type": "code",
   "execution_count": 30,
   "id": "6df3729a",
   "metadata": {},
   "outputs": [],
   "source": [
    "zoom_out__btn=driver.find_element_by_xpath(\"//button[@aria-label='Zoom out']//div\")"
   ]
  },
  {
   "cell_type": "code",
   "execution_count": 31,
   "id": "58040731",
   "metadata": {},
   "outputs": [],
   "source": [
    "try: \n",
    "    for i in range(1,4):\n",
    "        zoom_out__btn.click()\n",
    "    \n",
    "except StaleElementReferenceException as e:\n",
    "        zoom_out__btn.click()"
   ]
  },
  {
   "cell_type": "code",
   "execution_count": 34,
   "id": "8bb44766",
   "metadata": {},
   "outputs": [
    {
     "data": {
      "text/plain": [
       "['13.079481, 80.252907']"
      ]
     },
     "execution_count": 34,
     "metadata": {},
     "output_type": "execute_result"
    }
   ],
   "source": [
    "coordinates=[]\n",
    "try:\n",
    "    coordinate=driver.find_element_by_xpath(\"//button[@aria-label='13.079481, 80.252907']\")\n",
    "    coordinates.append(coordinate.text)\n",
    "    \n",
    "except NoSuchElementException  as e:\n",
    "    coordinates.append(\"_\")\n",
    "            \n",
    "coordinates    "
   ]
  },
  {
   "cell_type": "code",
   "execution_count": 35,
   "id": "966d3e3c",
   "metadata": {},
   "outputs": [
    {
     "data": {
      "text/plain": [
       "['Chennai']"
      ]
     },
     "execution_count": 35,
     "metadata": {},
     "output_type": "execute_result"
    }
   ],
   "source": [
    "coordinates_city=[]\n",
    "try:\n",
    "    coordinates_citi=driver.find_element_by_xpath(\"//div[@jstcache='658']\")\n",
    "    coordinates_city.append(coordinates_citi.text)\n",
    "    \n",
    "except NoSuchElementException  as e:\n",
    "    coordinates_city.append(\"_\")\n",
    "    \n",
    "coordinates_city\n"
   ]
  },
  {
   "cell_type": "code",
   "execution_count": 39,
   "id": "f5c2f708",
   "metadata": {},
   "outputs": [
    {
     "data": {
      "text/plain": [
       "['Tamil Nadu']"
      ]
     },
     "execution_count": 39,
     "metadata": {},
     "output_type": "execute_result"
    }
   ],
   "source": [
    "coordinates_state=[]\n",
    "try:\n",
    "    coordinates_stati=driver.find_element_by_xpath(\"//button[@jstcache='657']//div[2]\")\n",
    "    coordinates_state.append(coordinates_stati.text)\n",
    "    \n",
    "except NoSuchElementException  as e:\n",
    "    coordinates_state.append(\"_\")\n",
    "coordinates_state"
   ]
  },
  {
   "cell_type": "code",
   "execution_count": 40,
   "id": "177c7aee",
   "metadata": {},
   "outputs": [],
   "source": [
    "import pandas as pd\n",
    "Gmap=pd.DataFrame({})\n",
    "Gmap['COORDINATES']=coordinates\n",
    "Gmap['CITY']=coordinates_city\n",
    "Gmap['STATE']=coordinates_state"
   ]
  },
  {
   "cell_type": "code",
   "execution_count": 41,
   "id": "88b20617",
   "metadata": {},
   "outputs": [
    {
     "data": {
      "text/html": [
       "<style  type=\"text/css\" >\n",
       "</style><table id=\"T_358e1_\" style='display:inline'><caption>CHENNAI CITY GEOSPATIAL  COORDINATES</caption><thead>    <tr>        <th class=\"blank level0\" ></th>        <th class=\"col_heading level0 col0\" >COORDINATES</th>        <th class=\"col_heading level0 col1\" >CITY</th>        <th class=\"col_heading level0 col2\" >STATE</th>    </tr></thead><tbody>\n",
       "                <tr>\n",
       "                        <th id=\"T_358e1_level0_row0\" class=\"row_heading level0 row0\" >0</th>\n",
       "                        <td id=\"T_358e1_row0_col0\" class=\"data row0 col0\" >13.079481, 80.252907</td>\n",
       "                        <td id=\"T_358e1_row0_col1\" class=\"data row0 col1\" >Chennai</td>\n",
       "                        <td id=\"T_358e1_row0_col2\" class=\"data row0 col2\" >Tamil Nadu</td>\n",
       "            </tr>\n",
       "    </tbody></table>"
      ],
      "text/plain": [
       "<pandas.io.formats.style.Styler at 0x2b2945e83a0>"
      ]
     },
     "execution_count": 41,
     "metadata": {},
     "output_type": "execute_result"
    }
   ],
   "source": [
    "Gmap.style.set_table_attributes(\"style='display:inline'\").set_caption('CHENNAI CITY GEOSPATIAL  COORDINATES')"
   ]
  },
  {
   "cell_type": "markdown",
   "id": "568556ec",
   "metadata": {},
   "source": [
    "This is chennai city's geospatial coordinates from gmap"
   ]
  },
  {
   "cell_type": "code",
   "execution_count": null,
   "id": "56850efb",
   "metadata": {},
   "outputs": [],
   "source": []
  }
 ],
 "metadata": {
  "kernelspec": {
   "display_name": "Python 3",
   "language": "python",
   "name": "python3"
  },
  "language_info": {
   "codemirror_mode": {
    "name": "ipython",
    "version": 3
   },
   "file_extension": ".py",
   "mimetype": "text/x-python",
   "name": "python",
   "nbconvert_exporter": "python",
   "pygments_lexer": "ipython3",
   "version": "3.8.8"
  }
 },
 "nbformat": 4,
 "nbformat_minor": 5
}
