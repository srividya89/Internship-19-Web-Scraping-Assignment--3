{
 "cells": [
  {
   "cell_type": "code",
   "execution_count": 1,
   "id": "9863a04c",
   "metadata": {},
   "outputs": [
    {
     "name": "stdout",
     "output_type": "stream",
     "text": [
      "Requirement already satisfied: selenium in c:\\users\\srividya\\anaconda3\\lib\\site-packages (4.0.0b4)\n",
      "Requirement already satisfied: urllib3[secure]~=1.26 in c:\\users\\srividya\\anaconda3\\lib\\site-packages (from selenium) (1.26.4)\n",
      "Requirement already satisfied: trio-websocket~=0.9 in c:\\users\\srividya\\anaconda3\\lib\\site-packages (from selenium) (0.9.2)\n",
      "Requirement already satisfied: trio~=0.17 in c:\\users\\srividya\\anaconda3\\lib\\site-packages (from selenium) (0.19.0)\n",
      "Requirement already satisfied: sniffio in c:\\users\\srividya\\anaconda3\\lib\\site-packages (from trio~=0.17->selenium) (1.2.0)\n",
      "Requirement already satisfied: async-generator>=1.9 in c:\\users\\srividya\\anaconda3\\lib\\site-packages (from trio~=0.17->selenium) (1.10)\n",
      "Requirement already satisfied: attrs>=19.2.0 in c:\\users\\srividya\\anaconda3\\lib\\site-packages (from trio~=0.17->selenium) (20.3.0)\n",
      "Requirement already satisfied: cffi>=1.14 in c:\\users\\srividya\\anaconda3\\lib\\site-packages (from trio~=0.17->selenium) (1.14.5)\n",
      "Requirement already satisfied: sortedcontainers in c:\\users\\srividya\\anaconda3\\lib\\site-packages (from trio~=0.17->selenium) (2.3.0)\n",
      "Requirement already satisfied: idna in c:\\users\\srividya\\anaconda3\\lib\\site-packages (from trio~=0.17->selenium) (2.10)\n",
      "Requirement already satisfied: outcome in c:\\users\\srividya\\anaconda3\\lib\\site-packages (from trio~=0.17->selenium) (1.1.0)\n",
      "Requirement already satisfied: pycparser in c:\\users\\srividya\\anaconda3\\lib\\site-packages (from cffi>=1.14->trio~=0.17->selenium) (2.20)\n",
      "Requirement already satisfied: wsproto>=0.14 in c:\\users\\srividya\\anaconda3\\lib\\site-packages (from trio-websocket~=0.9->selenium) (1.0.0)\n",
      "Requirement already satisfied: cryptography>=1.3.4 in c:\\users\\srividya\\anaconda3\\lib\\site-packages (from urllib3[secure]~=1.26->selenium) (3.4.7)\n",
      "Requirement already satisfied: certifi in c:\\users\\srividya\\anaconda3\\lib\\site-packages (from urllib3[secure]~=1.26->selenium) (2020.12.5)\n",
      "Requirement already satisfied: pyOpenSSL>=0.14 in c:\\users\\srividya\\anaconda3\\lib\\site-packages (from urllib3[secure]~=1.26->selenium) (20.0.1)\n",
      "Requirement already satisfied: six>=1.5.2 in c:\\users\\srividya\\anaconda3\\lib\\site-packages (from pyOpenSSL>=0.14->urllib3[secure]~=1.26->selenium) (1.15.0)\n",
      "Requirement already satisfied: h11<1,>=0.9.0 in c:\\users\\srividya\\anaconda3\\lib\\site-packages (from wsproto>=0.14->trio-websocket~=0.9->selenium) (0.12.0)\n"
     ]
    }
   ],
   "source": [
    "!pip install selenium\n",
    "import time\n",
    "import warnings\n",
    "warnings.filterwarnings('ignore')"
   ]
  },
  {
   "cell_type": "code",
   "execution_count": 2,
   "id": "1a0ba392",
   "metadata": {},
   "outputs": [],
   "source": [
    "import selenium\n",
    "import pandas as pd\n",
    "from selenium import webdriver "
   ]
  },
  {
   "cell_type": "code",
   "execution_count": 3,
   "id": "a37803f0",
   "metadata": {},
   "outputs": [],
   "source": [
    "driver=webdriver.Chrome(r\"C:\\Users\\Srividya\\Downloads\\chromedriver_win32\\chromedriver.exe\")"
   ]
  },
  {
   "cell_type": "code",
   "execution_count": 4,
   "id": "63226e11",
   "metadata": {},
   "outputs": [],
   "source": [
    "url=\"https://www.digit.in/\"\n",
    "driver.get(url)"
   ]
  },
  {
   "cell_type": "code",
   "execution_count": 5,
   "id": "800b7d03",
   "metadata": {},
   "outputs": [],
   "source": [
    "\n",
    "from selenium.common.exceptions import  StaleElementReferenceException,ElementClickInterceptedException\n",
    "from selenium.common.exceptions import  NoSuchElementException,NoSuchWindowException\n",
    "\n",
    "from selenium.webdriver.support.ui import WebDriverWait\n",
    "from selenium.webdriver.support import expected_conditions as EC\n",
    "from selenium.webdriver.common.by import By\n"
   ]
  },
  {
   "cell_type": "code",
   "execution_count": 6,
   "id": "e0771004",
   "metadata": {},
   "outputs": [],
   "source": [
    "search_product=driver.find_element_by_xpath(\"//img[@alt='Search button']\")\n",
    "search_product.click()"
   ]
  },
  {
   "cell_type": "code",
   "execution_count": 7,
   "id": "ac5644ca",
   "metadata": {},
   "outputs": [],
   "source": [
    "search_bar=driver.find_element_by_xpath(\"//input[@id='globalPageSearchText']\")"
   ]
  },
  {
   "cell_type": "code",
   "execution_count": 8,
   "id": "09099208",
   "metadata": {},
   "outputs": [],
   "source": [
    "search_bar.send_keys(\"best gaming laptops\"+\"\\n\")"
   ]
  },
  {
   "cell_type": "code",
   "execution_count": 9,
   "id": "3a615ead",
   "metadata": {},
   "outputs": [],
   "source": [
    "urlss=[]\n",
    "for page in range(0,8):#for loop for scrapping 4 page\n",
    "    name_urls=driver.find_elements_by_xpath(\"//div[@class='searchPage']//a\")\n",
    "    for i in name_urls:\n",
    "        urlss.append(i.get_attribute('href'))\n",
    "    try:\n",
    "        nxt_button=driver.find_element_by_xpath(\"//ul[@class='pagination']//li[6]//a\")\n",
    "        nxt_button.click()    \n",
    "    except:\n",
    "        time.sleep(1)        "
   ]
  },
  {
   "cell_type": "code",
   "execution_count": 10,
   "id": "0113d2bf",
   "metadata": {},
   "outputs": [
    {
     "data": {
      "text/plain": [
       "['https://www.digit.in/laptops/asus-g750jx-cv069p-price-4426.html',\n",
       " 'https://www.digit.in/laptops/lenovo-g50-30-price-6793.html',\n",
       " 'https://www.digit.in/laptops/dell-vostro-15-3500-price-221765.html',\n",
       " 'https://www.digit.in/laptops/lenovo-ideapad-y570-price-2979.html',\n",
       " 'https://www.digit.in/laptops/asus-g53j-a-3d-gamer-s-delight-but-we-want-more-price-3465.html',\n",
       " 'https://www.digit.in/laptops/hp-envy-15-k006tx-price-4429.html',\n",
       " 'https://www.digit.in/laptops/asus-rog-flow-x13-price-229735.html',\n",
       " 'https://www.digit.in/laptops/hp-envy-dv6-7206tx-notebook-price-3097.html',\n",
       " 'https://www.digit.in/pc-components/cooler-master-storm-devastator-price-3313.html',\n",
       " 'https://www.digit.in/laptops/samsung-series-9-np-900x3c-price-2663.html',\n",
       " 'https://www.digit.in/apps/london-2012-official-mobile-game-android-and-ios-price-2923.html',\n",
       " 'https://www.digit.in/laptops/asus-zephyrus-g15-ryzen-9-5900hs-2021-price-231905.html',\n",
       " 'https://www.digit.in/laptops/acer-aspire-e15-e5-573g-price-6792.html',\n",
       " 'https://www.digit.in/tvs/truvision-tx3271-price-69451.html',\n",
       " 'https://www.digit.in/laptops/hp-envy-4-1002tx-price-3098.html',\n",
       " 'https://www.digit.in/features/laptops/best-gaming-laptops-under-rs-60000-56245.html',\n",
       " 'https://www.digit.in/features/general/digit-zero1-awards-2019-best-performing-gaming-laptops-51326.html',\n",
       " 'https://www.digit.in/amazon-articles/laptops/best-laptops-for-casual-gaming-51770.html',\n",
       " 'https://www.digit.in/features/laptops/15-best-affordable-gaming-laptops-under-rs-60-000-17934.html',\n",
       " 'https://www.digit.in/amazon-articles/laptops/best-budget-laptops-for-1080p-gaming-59365.html']"
      ]
     },
     "execution_count": 10,
     "metadata": {},
     "output_type": "execute_result"
    }
   ],
   "source": [
    "urlss"
   ]
  },
  {
   "cell_type": "code",
   "execution_count": 11,
   "id": "27bdaafc",
   "metadata": {},
   "outputs": [],
   "source": [
    "for i in range(0,8):\n",
    "    prev_button=driver.find_element_by_xpath(\"//ul[@class='pagination']//li[1]//a\")\n",
    "    try:\n",
    "        prev_button.click()  \n",
    "    except:\n",
    "        time.sleep(1)"
   ]
  },
  {
   "cell_type": "code",
   "execution_count": 12,
   "id": "acd1379b",
   "metadata": {},
   "outputs": [
    {
     "data": {
      "text/plain": [
       "['Asus G750JX-CV069P',\n",
       " 'Lenovo G50-30',\n",
       " 'Dell Vostro 15 3500',\n",
       " 'Lenovo IdeaPad Y570',\n",
       " \"ASUS G53J - A 3D gamer's delight but we want more\",\n",
       " 'HP Envy 15-k006tx',\n",
       " 'ASUS ROG Flow x13',\n",
       " 'HP Envy dv6-7206tx notebook',\n",
       " 'Cooler Master Storm Devastator',\n",
       " 'Samsung Series 9 (NP-900X3C)',\n",
       " 'London 2012: Official Mobile Game (Android and iOS)',\n",
       " 'ASUS Zephyrus G15 Ryzen 9 5900HS (2021)',\n",
       " 'Acer Aspire E15 E5-573G',\n",
       " 'Truvison TX3271',\n",
       " 'HP Envy 4-1002TX',\n",
       " '_',\n",
       " '_',\n",
       " '_',\n",
       " '15 Best Affordable Gaming Laptops under Rs. 60,000',\n",
       " '_']"
      ]
     },
     "execution_count": 12,
     "metadata": {},
     "output_type": "execute_result"
    }
   ],
   "source": [
    "product_names=[]\n",
    "for j in urlss:\n",
    "    driver.get(j)\n",
    "    try:\n",
    "        product_name=driver.find_element_by_xpath(\"//div[@class='Center-block']//div[2]//h1\")\n",
    "        product_names.append(product_name.text)\n",
    "    \n",
    "    except NoSuchElementException  as e:\n",
    "        product_names.append(\"_\")\n",
    "            \n",
    "product_names  \n",
    "     "
   ]
  },
  {
   "cell_type": "code",
   "execution_count": 13,
   "id": "1d2e3ee9",
   "metadata": {},
   "outputs": [
    {
     "data": {
      "text/plain": [
       "['₹ 149,999',\n",
       " '₹ 25,694',\n",
       " '₹ 38,489',\n",
       " '₹ 49,900',\n",
       " '₹ 112,499',\n",
       " '₹ 80,510',\n",
       " '₹ 154,990',\n",
       " '₹ 65,705',\n",
       " '_',\n",
       " '_',\n",
       " '_',\n",
       " '₹ 137,990',\n",
       " '₹ 42,000',\n",
       " '₹ 23,490',\n",
       " '₹ 58,325',\n",
       " '_',\n",
       " '_',\n",
       " '_',\n",
       " '_',\n",
       " '_']"
      ]
     },
     "execution_count": 13,
     "metadata": {},
     "output_type": "execute_result"
    }
   ],
   "source": [
    "prices=[]\n",
    "for l in urlss:\n",
    "    driver.get(l)\n",
    "    try:\n",
    "        price=driver.find_element_by_xpath(\"//div[@class='price']//strong\")\n",
    "        prices.append(price.text)\n",
    "    \n",
    "    except NoSuchElementException  as e:\n",
    "        prices.append(\"_\")\n",
    "            \n",
    "prices"
   ]
  },
  {
   "cell_type": "code",
   "execution_count": 14,
   "id": "3efc7c21",
   "metadata": {},
   "outputs": [
    {
     "data": {
      "text/plain": [
       "['Asus',\n",
       " 'Lenovo',\n",
       " 'Dell',\n",
       " 'Lenovo',\n",
       " 'Asus',\n",
       " 'HP',\n",
       " 'Asus',\n",
       " 'HP',\n",
       " 'Cooler Master',\n",
       " 'Samsung',\n",
       " 'Others',\n",
       " 'Asus',\n",
       " 'Acer',\n",
       " 'Truvison',\n",
       " 'HP',\n",
       " '_',\n",
       " '_',\n",
       " '_',\n",
       " '_',\n",
       " '_']"
      ]
     },
     "execution_count": 14,
     "metadata": {},
     "output_type": "execute_result"
    }
   ],
   "source": [
    "Brand_names=[]\n",
    "for l in urlss:\n",
    "    driver.get(l)\n",
    "    try:\n",
    "        Brand_name=driver.find_element_by_xpath(\"//div[@class='status_bar']//div[3]//strong\")\n",
    "        Brand_names.append(Brand_name.text)\n",
    "    \n",
    "    except NoSuchElementException  as e:\n",
    "        Brand_names.append(\"_\")\n",
    "            \n",
    "Brand_names"
   ]
  },
  {
   "cell_type": "code",
   "execution_count": 15,
   "id": "d6fb5880",
   "metadata": {},
   "outputs": [
    {
     "data": {
      "text/plain": [
       "['Release Date : 14 Oct, 2014',\n",
       " 'Release Date : 17 Mar, 2016',\n",
       " 'Release Date : 17 Mar, 2021',\n",
       " 'Release Date : 07 Feb, 2012',\n",
       " 'Release Date : 13 Jan, 2011',\n",
       " 'Release Date : 14 Oct, 2014',\n",
       " 'Release Date : 05 May, 2021',\n",
       " 'Release Date : 23 Feb, 2013',\n",
       " 'Expected Date : 03 Jan, 2014',\n",
       " 'Expected Date : 01 Nov, 2012',\n",
       " 'Expected Date : 30 Jul, 2012',\n",
       " 'Release Date : 26 May, 2021',\n",
       " 'Release Date : 17 Mar, 2016',\n",
       " 'Release Date : 26 Oct, 2017',\n",
       " 'Release Date : 28 Aug, 2012',\n",
       " '_',\n",
       " '_',\n",
       " '_',\n",
       " '_',\n",
       " '_']"
      ]
     },
     "execution_count": 15,
     "metadata": {},
     "output_type": "execute_result"
    }
   ],
   "source": [
    "Realease=[]\n",
    "for l in urlss:\n",
    "    driver.get(l)\n",
    "    try:\n",
    "        Realea=driver.find_element_by_xpath(\"//div[@class='status_bar']//div[2]\")\n",
    "        Realease.append(Realea.text)\n",
    "    \n",
    "    except NoSuchElementException  as e:\n",
    "        Realease.append(\"_\")\n",
    "Realease"
   ]
  },
  {
   "cell_type": "code",
   "execution_count": 16,
   "id": "a09f57ab",
   "metadata": {},
   "outputs": [
    {
     "data": {
      "text/plain": [
       "['Market Status : LAUNCHED',\n",
       " 'Market Status : LAUNCHED',\n",
       " 'Market Status : LAUNCHED',\n",
       " 'Market Status : LAUNCHED',\n",
       " 'Market Status : LAUNCHED',\n",
       " 'Market Status : LAUNCHED',\n",
       " 'Market Status : LAUNCHED',\n",
       " 'Market Status : LAUNCHED',\n",
       " 'Market Status : DISCONTINUED',\n",
       " 'Market Status : DISCONTINUED',\n",
       " 'Market Status : DISCONTINUED',\n",
       " 'Market Status : LAUNCHED',\n",
       " 'Market Status : LAUNCHED',\n",
       " 'Market Status : LAUNCHED',\n",
       " 'Market Status : LAUNCHED',\n",
       " '_',\n",
       " '_',\n",
       " '_',\n",
       " '_',\n",
       " '_']"
      ]
     },
     "execution_count": 16,
     "metadata": {},
     "output_type": "execute_result"
    }
   ],
   "source": [
    "status=[]\n",
    "for l in urlss:\n",
    "    driver.get(l)\n",
    "    try:\n",
    "        stat=driver.find_element_by_xpath(\"//div[@class='status_bar']//div[1]\")\n",
    "        status.append(stat.text)\n",
    "    \n",
    "    except NoSuchElementException  as e:\n",
    "        status.append(\"_\")\n",
    "status"
   ]
  },
  {
   "cell_type": "code",
   "execution_count": 27,
   "id": "f5df44d6",
   "metadata": {},
   "outputs": [],
   "source": [
    "Nos=[]\n",
    "for i in range(1,len(status)+1):\n",
    "    Nos.append(i)\n"
   ]
  },
  {
   "cell_type": "code",
   "execution_count": 31,
   "id": "47248b4b",
   "metadata": {},
   "outputs": [
    {
     "data": {
      "text/html": [
       "<style  type=\"text/css\" >\n",
       "</style><table id=\"T_f7432_\" ><thead>    <tr>        <th class=\"col_heading level0 col0\" >Nos</th>        <th class=\"col_heading level0 col1\" >Product_Names</th>        <th class=\"col_heading level0 col2\" >Brand_Names</th>        <th class=\"col_heading level0 col3\" >Prices</th>        <th class=\"col_heading level0 col4\" >Product URLS</th>        <th class=\"col_heading level0 col5\" >Market Status</th>        <th class=\"col_heading level0 col6\" >Release Date</th>    </tr></thead><tbody>\n",
       "                <tr>\n",
       "                                <td id=\"T_f7432_row0_col0\" class=\"data row0 col0\" >1</td>\n",
       "                        <td id=\"T_f7432_row0_col1\" class=\"data row0 col1\" >Asus G750JX-CV069P</td>\n",
       "                        <td id=\"T_f7432_row0_col2\" class=\"data row0 col2\" >Asus</td>\n",
       "                        <td id=\"T_f7432_row0_col3\" class=\"data row0 col3\" >₹ 149,999</td>\n",
       "                        <td id=\"T_f7432_row0_col4\" class=\"data row0 col4\" >https://www.digit.in/laptops/asus-g750jx-cv069p-price-4426.html</td>\n",
       "                        <td id=\"T_f7432_row0_col5\" class=\"data row0 col5\" >Market Status : LAUNCHED</td>\n",
       "                        <td id=\"T_f7432_row0_col6\" class=\"data row0 col6\" >Release Date : 14 Oct, 2014</td>\n",
       "            </tr>\n",
       "            <tr>\n",
       "                                <td id=\"T_f7432_row1_col0\" class=\"data row1 col0\" >2</td>\n",
       "                        <td id=\"T_f7432_row1_col1\" class=\"data row1 col1\" >Lenovo G50-30</td>\n",
       "                        <td id=\"T_f7432_row1_col2\" class=\"data row1 col2\" >Lenovo</td>\n",
       "                        <td id=\"T_f7432_row1_col3\" class=\"data row1 col3\" >₹ 25,694</td>\n",
       "                        <td id=\"T_f7432_row1_col4\" class=\"data row1 col4\" >https://www.digit.in/laptops/lenovo-g50-30-price-6793.html</td>\n",
       "                        <td id=\"T_f7432_row1_col5\" class=\"data row1 col5\" >Market Status : LAUNCHED</td>\n",
       "                        <td id=\"T_f7432_row1_col6\" class=\"data row1 col6\" >Release Date : 17 Mar, 2016</td>\n",
       "            </tr>\n",
       "            <tr>\n",
       "                                <td id=\"T_f7432_row2_col0\" class=\"data row2 col0\" >3</td>\n",
       "                        <td id=\"T_f7432_row2_col1\" class=\"data row2 col1\" >Dell Vostro 15 3500</td>\n",
       "                        <td id=\"T_f7432_row2_col2\" class=\"data row2 col2\" >Dell</td>\n",
       "                        <td id=\"T_f7432_row2_col3\" class=\"data row2 col3\" >₹ 38,489</td>\n",
       "                        <td id=\"T_f7432_row2_col4\" class=\"data row2 col4\" >https://www.digit.in/laptops/dell-vostro-15-3500-price-221765.html</td>\n",
       "                        <td id=\"T_f7432_row2_col5\" class=\"data row2 col5\" >Market Status : LAUNCHED</td>\n",
       "                        <td id=\"T_f7432_row2_col6\" class=\"data row2 col6\" >Release Date : 17 Mar, 2021</td>\n",
       "            </tr>\n",
       "            <tr>\n",
       "                                <td id=\"T_f7432_row3_col0\" class=\"data row3 col0\" >4</td>\n",
       "                        <td id=\"T_f7432_row3_col1\" class=\"data row3 col1\" >Lenovo IdeaPad Y570</td>\n",
       "                        <td id=\"T_f7432_row3_col2\" class=\"data row3 col2\" >Lenovo</td>\n",
       "                        <td id=\"T_f7432_row3_col3\" class=\"data row3 col3\" >₹ 49,900</td>\n",
       "                        <td id=\"T_f7432_row3_col4\" class=\"data row3 col4\" >https://www.digit.in/laptops/lenovo-ideapad-y570-price-2979.html</td>\n",
       "                        <td id=\"T_f7432_row3_col5\" class=\"data row3 col5\" >Market Status : LAUNCHED</td>\n",
       "                        <td id=\"T_f7432_row3_col6\" class=\"data row3 col6\" >Release Date : 07 Feb, 2012</td>\n",
       "            </tr>\n",
       "            <tr>\n",
       "                                <td id=\"T_f7432_row4_col0\" class=\"data row4 col0\" >5</td>\n",
       "                        <td id=\"T_f7432_row4_col1\" class=\"data row4 col1\" >ASUS G53J - A 3D gamer's delight but we want more</td>\n",
       "                        <td id=\"T_f7432_row4_col2\" class=\"data row4 col2\" >Asus</td>\n",
       "                        <td id=\"T_f7432_row4_col3\" class=\"data row4 col3\" >₹ 112,499</td>\n",
       "                        <td id=\"T_f7432_row4_col4\" class=\"data row4 col4\" >https://www.digit.in/laptops/asus-g53j-a-3d-gamer-s-delight-but-we-want-more-price-3465.html</td>\n",
       "                        <td id=\"T_f7432_row4_col5\" class=\"data row4 col5\" >Market Status : LAUNCHED</td>\n",
       "                        <td id=\"T_f7432_row4_col6\" class=\"data row4 col6\" >Release Date : 13 Jan, 2011</td>\n",
       "            </tr>\n",
       "            <tr>\n",
       "                                <td id=\"T_f7432_row5_col0\" class=\"data row5 col0\" >6</td>\n",
       "                        <td id=\"T_f7432_row5_col1\" class=\"data row5 col1\" >HP Envy 15-k006tx</td>\n",
       "                        <td id=\"T_f7432_row5_col2\" class=\"data row5 col2\" >HP</td>\n",
       "                        <td id=\"T_f7432_row5_col3\" class=\"data row5 col3\" >₹ 80,510</td>\n",
       "                        <td id=\"T_f7432_row5_col4\" class=\"data row5 col4\" >https://www.digit.in/laptops/hp-envy-15-k006tx-price-4429.html</td>\n",
       "                        <td id=\"T_f7432_row5_col5\" class=\"data row5 col5\" >Market Status : LAUNCHED</td>\n",
       "                        <td id=\"T_f7432_row5_col6\" class=\"data row5 col6\" >Release Date : 14 Oct, 2014</td>\n",
       "            </tr>\n",
       "            <tr>\n",
       "                                <td id=\"T_f7432_row6_col0\" class=\"data row6 col0\" >7</td>\n",
       "                        <td id=\"T_f7432_row6_col1\" class=\"data row6 col1\" >ASUS ROG Flow x13</td>\n",
       "                        <td id=\"T_f7432_row6_col2\" class=\"data row6 col2\" >Asus</td>\n",
       "                        <td id=\"T_f7432_row6_col3\" class=\"data row6 col3\" >₹ 154,990</td>\n",
       "                        <td id=\"T_f7432_row6_col4\" class=\"data row6 col4\" >https://www.digit.in/laptops/asus-rog-flow-x13-price-229735.html</td>\n",
       "                        <td id=\"T_f7432_row6_col5\" class=\"data row6 col5\" >Market Status : LAUNCHED</td>\n",
       "                        <td id=\"T_f7432_row6_col6\" class=\"data row6 col6\" >Release Date : 05 May, 2021</td>\n",
       "            </tr>\n",
       "            <tr>\n",
       "                                <td id=\"T_f7432_row7_col0\" class=\"data row7 col0\" >8</td>\n",
       "                        <td id=\"T_f7432_row7_col1\" class=\"data row7 col1\" >HP Envy dv6-7206tx notebook</td>\n",
       "                        <td id=\"T_f7432_row7_col2\" class=\"data row7 col2\" >HP</td>\n",
       "                        <td id=\"T_f7432_row7_col3\" class=\"data row7 col3\" >₹ 65,705</td>\n",
       "                        <td id=\"T_f7432_row7_col4\" class=\"data row7 col4\" >https://www.digit.in/laptops/hp-envy-dv6-7206tx-notebook-price-3097.html</td>\n",
       "                        <td id=\"T_f7432_row7_col5\" class=\"data row7 col5\" >Market Status : LAUNCHED</td>\n",
       "                        <td id=\"T_f7432_row7_col6\" class=\"data row7 col6\" >Release Date : 23 Feb, 2013</td>\n",
       "            </tr>\n",
       "            <tr>\n",
       "                                <td id=\"T_f7432_row8_col0\" class=\"data row8 col0\" >9</td>\n",
       "                        <td id=\"T_f7432_row8_col1\" class=\"data row8 col1\" >Cooler Master Storm Devastator</td>\n",
       "                        <td id=\"T_f7432_row8_col2\" class=\"data row8 col2\" >Cooler Master</td>\n",
       "                        <td id=\"T_f7432_row8_col3\" class=\"data row8 col3\" >_</td>\n",
       "                        <td id=\"T_f7432_row8_col4\" class=\"data row8 col4\" >https://www.digit.in/pc-components/cooler-master-storm-devastator-price-3313.html</td>\n",
       "                        <td id=\"T_f7432_row8_col5\" class=\"data row8 col5\" >Market Status : DISCONTINUED</td>\n",
       "                        <td id=\"T_f7432_row8_col6\" class=\"data row8 col6\" >Expected Date : 03 Jan, 2014</td>\n",
       "            </tr>\n",
       "            <tr>\n",
       "                                <td id=\"T_f7432_row9_col0\" class=\"data row9 col0\" >10</td>\n",
       "                        <td id=\"T_f7432_row9_col1\" class=\"data row9 col1\" >Samsung Series 9 (NP-900X3C)</td>\n",
       "                        <td id=\"T_f7432_row9_col2\" class=\"data row9 col2\" >Samsung</td>\n",
       "                        <td id=\"T_f7432_row9_col3\" class=\"data row9 col3\" >_</td>\n",
       "                        <td id=\"T_f7432_row9_col4\" class=\"data row9 col4\" >https://www.digit.in/laptops/samsung-series-9-np-900x3c-price-2663.html</td>\n",
       "                        <td id=\"T_f7432_row9_col5\" class=\"data row9 col5\" >Market Status : DISCONTINUED</td>\n",
       "                        <td id=\"T_f7432_row9_col6\" class=\"data row9 col6\" >Expected Date : 01 Nov, 2012</td>\n",
       "            </tr>\n",
       "            <tr>\n",
       "                                <td id=\"T_f7432_row10_col0\" class=\"data row10 col0\" >11</td>\n",
       "                        <td id=\"T_f7432_row10_col1\" class=\"data row10 col1\" >London 2012: Official Mobile Game (Android and iOS)</td>\n",
       "                        <td id=\"T_f7432_row10_col2\" class=\"data row10 col2\" >Others</td>\n",
       "                        <td id=\"T_f7432_row10_col3\" class=\"data row10 col3\" >_</td>\n",
       "                        <td id=\"T_f7432_row10_col4\" class=\"data row10 col4\" >https://www.digit.in/apps/london-2012-official-mobile-game-android-and-ios-price-2923.html</td>\n",
       "                        <td id=\"T_f7432_row10_col5\" class=\"data row10 col5\" >Market Status : DISCONTINUED</td>\n",
       "                        <td id=\"T_f7432_row10_col6\" class=\"data row10 col6\" >Expected Date : 30 Jul, 2012</td>\n",
       "            </tr>\n",
       "            <tr>\n",
       "                                <td id=\"T_f7432_row11_col0\" class=\"data row11 col0\" >12</td>\n",
       "                        <td id=\"T_f7432_row11_col1\" class=\"data row11 col1\" >ASUS Zephyrus G15 Ryzen 9 5900HS (2021)</td>\n",
       "                        <td id=\"T_f7432_row11_col2\" class=\"data row11 col2\" >Asus</td>\n",
       "                        <td id=\"T_f7432_row11_col3\" class=\"data row11 col3\" >₹ 137,990</td>\n",
       "                        <td id=\"T_f7432_row11_col4\" class=\"data row11 col4\" >https://www.digit.in/laptops/asus-zephyrus-g15-ryzen-9-5900hs-2021-price-231905.html</td>\n",
       "                        <td id=\"T_f7432_row11_col5\" class=\"data row11 col5\" >Market Status : LAUNCHED</td>\n",
       "                        <td id=\"T_f7432_row11_col6\" class=\"data row11 col6\" >Release Date : 26 May, 2021</td>\n",
       "            </tr>\n",
       "            <tr>\n",
       "                                <td id=\"T_f7432_row12_col0\" class=\"data row12 col0\" >13</td>\n",
       "                        <td id=\"T_f7432_row12_col1\" class=\"data row12 col1\" >Acer Aspire E15 E5-573G</td>\n",
       "                        <td id=\"T_f7432_row12_col2\" class=\"data row12 col2\" >Acer</td>\n",
       "                        <td id=\"T_f7432_row12_col3\" class=\"data row12 col3\" >₹ 42,000</td>\n",
       "                        <td id=\"T_f7432_row12_col4\" class=\"data row12 col4\" >https://www.digit.in/laptops/acer-aspire-e15-e5-573g-price-6792.html</td>\n",
       "                        <td id=\"T_f7432_row12_col5\" class=\"data row12 col5\" >Market Status : LAUNCHED</td>\n",
       "                        <td id=\"T_f7432_row12_col6\" class=\"data row12 col6\" >Release Date : 17 Mar, 2016</td>\n",
       "            </tr>\n",
       "            <tr>\n",
       "                                <td id=\"T_f7432_row13_col0\" class=\"data row13 col0\" >14</td>\n",
       "                        <td id=\"T_f7432_row13_col1\" class=\"data row13 col1\" >Truvison TX3271</td>\n",
       "                        <td id=\"T_f7432_row13_col2\" class=\"data row13 col2\" >Truvison</td>\n",
       "                        <td id=\"T_f7432_row13_col3\" class=\"data row13 col3\" >₹ 23,490</td>\n",
       "                        <td id=\"T_f7432_row13_col4\" class=\"data row13 col4\" >https://www.digit.in/tvs/truvision-tx3271-price-69451.html</td>\n",
       "                        <td id=\"T_f7432_row13_col5\" class=\"data row13 col5\" >Market Status : LAUNCHED</td>\n",
       "                        <td id=\"T_f7432_row13_col6\" class=\"data row13 col6\" >Release Date : 26 Oct, 2017</td>\n",
       "            </tr>\n",
       "            <tr>\n",
       "                                <td id=\"T_f7432_row14_col0\" class=\"data row14 col0\" >15</td>\n",
       "                        <td id=\"T_f7432_row14_col1\" class=\"data row14 col1\" >HP Envy 4-1002TX</td>\n",
       "                        <td id=\"T_f7432_row14_col2\" class=\"data row14 col2\" >HP</td>\n",
       "                        <td id=\"T_f7432_row14_col3\" class=\"data row14 col3\" >₹ 58,325</td>\n",
       "                        <td id=\"T_f7432_row14_col4\" class=\"data row14 col4\" >https://www.digit.in/laptops/hp-envy-4-1002tx-price-3098.html</td>\n",
       "                        <td id=\"T_f7432_row14_col5\" class=\"data row14 col5\" >Market Status : LAUNCHED</td>\n",
       "                        <td id=\"T_f7432_row14_col6\" class=\"data row14 col6\" >Release Date : 28 Aug, 2012</td>\n",
       "            </tr>\n",
       "            <tr>\n",
       "                                <td id=\"T_f7432_row15_col0\" class=\"data row15 col0\" >16</td>\n",
       "                        <td id=\"T_f7432_row15_col1\" class=\"data row15 col1\" >_</td>\n",
       "                        <td id=\"T_f7432_row15_col2\" class=\"data row15 col2\" >_</td>\n",
       "                        <td id=\"T_f7432_row15_col3\" class=\"data row15 col3\" >_</td>\n",
       "                        <td id=\"T_f7432_row15_col4\" class=\"data row15 col4\" >https://www.digit.in/features/laptops/best-gaming-laptops-under-rs-60000-56245.html</td>\n",
       "                        <td id=\"T_f7432_row15_col5\" class=\"data row15 col5\" >_</td>\n",
       "                        <td id=\"T_f7432_row15_col6\" class=\"data row15 col6\" >_</td>\n",
       "            </tr>\n",
       "            <tr>\n",
       "                                <td id=\"T_f7432_row16_col0\" class=\"data row16 col0\" >17</td>\n",
       "                        <td id=\"T_f7432_row16_col1\" class=\"data row16 col1\" >_</td>\n",
       "                        <td id=\"T_f7432_row16_col2\" class=\"data row16 col2\" >_</td>\n",
       "                        <td id=\"T_f7432_row16_col3\" class=\"data row16 col3\" >_</td>\n",
       "                        <td id=\"T_f7432_row16_col4\" class=\"data row16 col4\" >https://www.digit.in/features/general/digit-zero1-awards-2019-best-performing-gaming-laptops-51326.html</td>\n",
       "                        <td id=\"T_f7432_row16_col5\" class=\"data row16 col5\" >_</td>\n",
       "                        <td id=\"T_f7432_row16_col6\" class=\"data row16 col6\" >_</td>\n",
       "            </tr>\n",
       "            <tr>\n",
       "                                <td id=\"T_f7432_row17_col0\" class=\"data row17 col0\" >18</td>\n",
       "                        <td id=\"T_f7432_row17_col1\" class=\"data row17 col1\" >_</td>\n",
       "                        <td id=\"T_f7432_row17_col2\" class=\"data row17 col2\" >_</td>\n",
       "                        <td id=\"T_f7432_row17_col3\" class=\"data row17 col3\" >_</td>\n",
       "                        <td id=\"T_f7432_row17_col4\" class=\"data row17 col4\" >https://www.digit.in/amazon-articles/laptops/best-laptops-for-casual-gaming-51770.html</td>\n",
       "                        <td id=\"T_f7432_row17_col5\" class=\"data row17 col5\" >_</td>\n",
       "                        <td id=\"T_f7432_row17_col6\" class=\"data row17 col6\" >_</td>\n",
       "            </tr>\n",
       "            <tr>\n",
       "                                <td id=\"T_f7432_row18_col0\" class=\"data row18 col0\" >19</td>\n",
       "                        <td id=\"T_f7432_row18_col1\" class=\"data row18 col1\" >15 Best Affordable Gaming Laptops under Rs. 60,000</td>\n",
       "                        <td id=\"T_f7432_row18_col2\" class=\"data row18 col2\" >_</td>\n",
       "                        <td id=\"T_f7432_row18_col3\" class=\"data row18 col3\" >_</td>\n",
       "                        <td id=\"T_f7432_row18_col4\" class=\"data row18 col4\" >https://www.digit.in/features/laptops/15-best-affordable-gaming-laptops-under-rs-60-000-17934.html</td>\n",
       "                        <td id=\"T_f7432_row18_col5\" class=\"data row18 col5\" >_</td>\n",
       "                        <td id=\"T_f7432_row18_col6\" class=\"data row18 col6\" >_</td>\n",
       "            </tr>\n",
       "            <tr>\n",
       "                                <td id=\"T_f7432_row19_col0\" class=\"data row19 col0\" >20</td>\n",
       "                        <td id=\"T_f7432_row19_col1\" class=\"data row19 col1\" >_</td>\n",
       "                        <td id=\"T_f7432_row19_col2\" class=\"data row19 col2\" >_</td>\n",
       "                        <td id=\"T_f7432_row19_col3\" class=\"data row19 col3\" >_</td>\n",
       "                        <td id=\"T_f7432_row19_col4\" class=\"data row19 col4\" >https://www.digit.in/amazon-articles/laptops/best-budget-laptops-for-1080p-gaming-59365.html</td>\n",
       "                        <td id=\"T_f7432_row19_col5\" class=\"data row19 col5\" >_</td>\n",
       "                        <td id=\"T_f7432_row19_col6\" class=\"data row19 col6\" >_</td>\n",
       "            </tr>\n",
       "    </tbody></table>"
      ],
      "text/plain": [
       "<pandas.io.formats.style.Styler at 0x164fdaaeee0>"
      ]
     },
     "execution_count": 31,
     "metadata": {},
     "output_type": "execute_result"
    }
   ],
   "source": [
    "import pandas as pd\n",
    "Gaming=pd.DataFrame({})\n",
    "Gaming['Nos']=Nos\n",
    "Gaming['Product_Names']=product_names \n",
    "Gaming['Brand_Names']=Brand_names\n",
    "Gaming['Prices']=prices\n",
    "Gaming['Product URLS']=urlss\n",
    "Gaming['Market Status']=status\n",
    "Gaming['Release Date']=Realease\n",
    "Gaming.style.hide_index()\n"
   ]
  },
  {
   "cell_type": "markdown",
   "id": "bbf2ced6",
   "metadata": {},
   "source": [
    "These are the Gaming Laptop Details from Digit.in"
   ]
  },
  {
   "cell_type": "code",
   "execution_count": 34,
   "id": "dfbaff4a",
   "metadata": {},
   "outputs": [],
   "source": [
    "Gaming.to_csv(\"Gaming.csv\")"
   ]
  },
  {
   "cell_type": "code",
   "execution_count": null,
   "id": "55839826",
   "metadata": {},
   "outputs": [],
   "source": []
  }
 ],
 "metadata": {
  "kernelspec": {
   "display_name": "Python 3",
   "language": "python",
   "name": "python3"
  },
  "language_info": {
   "codemirror_mode": {
    "name": "ipython",
    "version": 3
   },
   "file_extension": ".py",
   "mimetype": "text/x-python",
   "name": "python",
   "nbconvert_exporter": "python",
   "pygments_lexer": "ipython3",
   "version": "3.8.8"
  }
 },
 "nbformat": 4,
 "nbformat_minor": 5
}
